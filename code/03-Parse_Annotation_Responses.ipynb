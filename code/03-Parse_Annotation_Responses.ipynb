{
 "cells": [
  {
   "cell_type": "markdown",
   "metadata": {},
   "source": [
    "# Parse annotation responses Notebook"
   ]
  },
  {
   "cell_type": "markdown",
   "metadata": {},
   "source": [
    "Once annotations are done by our annotators, we want to parse the JSON formatted responses from the specialized software Label Studio into a combined dataset."
   ]
  },
  {
   "cell_type": "code",
   "execution_count": 1,
   "metadata": {},
   "outputs": [
    {
     "name": "stderr",
     "output_type": "stream",
     "text": [
      "c:\\Users\\Veronii\\AppData\\Local\\Programs\\Python\\Python310\\lib\\site-packages\\tqdm\\auto.py:21: TqdmWarning: IProgress not found. Please update jupyter and ipywidgets. See https://ipywidgets.readthedocs.io/en/stable/user_install.html\n",
      "  from .autonotebook import tqdm as notebook_tqdm\n"
     ]
    },
    {
     "data": {
      "text/plain": [
       "<module 'imports' from 'c:\\\\Users\\\\Veronii\\\\Desktop\\\\data-wild-west\\\\code\\\\imports.py'>"
      ]
     },
     "execution_count": 1,
     "metadata": {},
     "output_type": "execute_result"
    }
   ],
   "source": [
    "# import os\n",
    "# import sys; sys.path.append(\"./libraries/\")\n",
    "# import pandas as pd\n",
    "# import numpy as np\n",
    "# from fleiss_kappa import fleiss_kappa\n",
    "# from label_studio_JSON_parser import parse_file\n",
    "import imports as i\n",
    "import importlib\n",
    "importlib.reload(i)"
   ]
  },
  {
   "cell_type": "code",
   "execution_count": 5,
   "metadata": {},
   "outputs": [
    {
     "name": "stdout",
     "output_type": "stream",
     "text": [
      "A total of 1010 are now joined.\n"
     ]
    }
   ],
   "source": [
    "# JSON formatted responses path\n",
    "path = \"../Annotations/Responses/\"\n",
    "\n",
    "# Container for individual annotation responses datasets\n",
    "dfs = []\n",
    "\n",
    "# Look at the JSON files, parse and join\n",
    "for file in i.os.listdir(path):\n",
    "    if file.endswith(\".json\"):\n",
    "        # Use our custom function to parse the response file\n",
    "        df = i.parse_file(path + file)\n",
    "        # Append to the container\n",
    "        dfs.append(df)\n",
    "\n",
    "# Join all files\n",
    "annotations = i.pd.concat(dfs).reset_index(drop=True)\n",
    "\n",
    "print(f\"A total of {annotations.shape[0]} are now joined.\")"
   ]
  },
  {
   "cell_type": "markdown",
   "metadata": {},
   "source": [
    "### Calculate Inter Annotator Agreement"
   ]
  },
  {
   "cell_type": "code",
   "execution_count": 7,
   "metadata": {},
   "outputs": [
    {
     "name": "stdout",
     "output_type": "stream",
     "text": [
      "The Fleiss Kappa for IAA is 0.23.\n"
     ]
    }
   ],
   "source": [
    "# The categories are in the columns (except the first two: \"ID\" and \"text\")\n",
    "categories = annotations.columns[2:]\n",
    "# The possible labels are 1.0 (Positive), 0.0 (Neutral), -1.0 (Negative) or NAN (if no sentiment)\n",
    "labels = [1.0, 0.0, -1.0, i.np.nan]\n",
    "\n",
    "IAA = i.fleiss_kappa(annotations, categories, labels=[1.0])\n",
    "\n",
    "print(f\"The Fleiss Kappa for IAA is {IAA:.2f}.\")"
   ]
  }
 ],
 "metadata": {
  "kernelspec": {
   "display_name": "Python 3",
   "language": "python",
   "name": "python3"
  },
  "language_info": {
   "codemirror_mode": {
    "name": "ipython",
    "version": 3
   },
   "file_extension": ".py",
   "mimetype": "text/x-python",
   "name": "python",
   "nbconvert_exporter": "python",
   "pygments_lexer": "ipython3",
   "version": "3.10.6"
  }
 },
 "nbformat": 4,
 "nbformat_minor": 2
}
