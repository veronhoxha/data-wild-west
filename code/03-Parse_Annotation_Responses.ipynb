{
 "cells": [
  {
   "cell_type": "markdown",
   "metadata": {},
   "source": [
    "# Parse annotation responses Notebook"
   ]
  },
  {
   "cell_type": "markdown",
   "metadata": {},
   "source": [
    "Once annotations are done by our annotators, we want to parse the JSON formatted responses from the specialized software Label Studio into a combined dataset."
   ]
  },
  {
   "cell_type": "code",
   "execution_count": 1,
   "metadata": {},
   "outputs": [
    {
     "name": "stderr",
     "output_type": "stream",
     "text": [
      "c:\\Users\\Veronii\\AppData\\Local\\Programs\\Python\\Python310\\lib\\site-packages\\tqdm\\auto.py:21: TqdmWarning: IProgress not found. Please update jupyter and ipywidgets. See https://ipywidgets.readthedocs.io/en/stable/user_install.html\n",
      "  from .autonotebook import tqdm as notebook_tqdm\n"
     ]
    },
    {
     "data": {
      "text/plain": [
       "<module 'imports' from 'c:\\\\Users\\\\Veronii\\\\Desktop\\\\data-wild-west\\\\code\\\\imports.py'>"
      ]
     },
     "execution_count": 1,
     "metadata": {},
     "output_type": "execute_result"
    }
   ],
   "source": [
    "# import os\n",
    "# import sys; sys.path.append(\"./libraries/\")\n",
    "# import pandas as pd\n",
    "# import numpy as np\n",
    "# from fleiss_kappa import fleiss_kappa\n",
    "# from label_studio_JSON_parser import parse_file\n",
    "import imports as i\n",
    "import importlib\n",
    "importlib.reload(i)"
   ]
  },
  {
   "cell_type": "code",
   "execution_count": 2,
   "metadata": {},
   "outputs": [
    {
     "name": "stdout",
     "output_type": "stream",
     "text": [
      "A total of 1008 are now joined.\n"
     ]
    }
   ],
   "source": [
    "# JSON formatted responses path\n",
    "path = \"../Annotations/annotators_results/\"\n",
    "\n",
    "# Container for individual annotation responses datasets\n",
    "dfs = []\n",
    "\n",
    "# Look at the JSON files, parse and join\n",
    "for file in i.os.listdir(path):\n",
    "    if file.endswith(\".json\"):\n",
    "        # Use our custom function to parse the response file\n",
    "        df = i.parse_file(path + file)\n",
    "        # Append to the container\n",
    "        dfs.append(df)\n",
    "\n",
    "# Join all files\n",
    "annotations = i.pd.concat(dfs).reset_index(drop=True)\n",
    "\n",
    "print(f\"A total of {annotations.shape[0]} are now joined.\")"
   ]
  },
  {
   "cell_type": "code",
   "execution_count": 3,
   "metadata": {},
   "outputs": [
    {
     "data": {
      "text/html": [
       "<div>\n",
       "<style scoped>\n",
       "    .dataframe tbody tr th:only-of-type {\n",
       "        vertical-align: middle;\n",
       "    }\n",
       "\n",
       "    .dataframe tbody tr th {\n",
       "        vertical-align: top;\n",
       "    }\n",
       "\n",
       "    .dataframe thead th {\n",
       "        text-align: right;\n",
       "    }\n",
       "</style>\n",
       "<table border=\"1\" class=\"dataframe\">\n",
       "  <thead>\n",
       "    <tr style=\"text-align: right;\">\n",
       "      <th></th>\n",
       "      <th>ID</th>\n",
       "      <th>text</th>\n",
       "      <th>Not Determined</th>\n",
       "      <th>Staff</th>\n",
       "      <th>Equipment</th>\n",
       "      <th>Hygiene</th>\n",
       "      <th>Location</th>\n",
       "    </tr>\n",
       "  </thead>\n",
       "  <tbody>\n",
       "    <tr>\n",
       "      <th>0</th>\n",
       "      <td>3</td>\n",
       "      <td>Sweet nice young people working, they have a s...</td>\n",
       "      <td>1.0</td>\n",
       "      <td>1.0</td>\n",
       "      <td>NaN</td>\n",
       "      <td>NaN</td>\n",
       "      <td>NaN</td>\n",
       "    </tr>\n",
       "    <tr>\n",
       "      <th>1</th>\n",
       "      <td>4</td>\n",
       "      <td>Has trained for many years here and Bornholmsv...</td>\n",
       "      <td>1.0</td>\n",
       "      <td>1.0</td>\n",
       "      <td>1.0</td>\n",
       "      <td>NaN</td>\n",
       "      <td>NaN</td>\n",
       "    </tr>\n",
       "    <tr>\n",
       "      <th>2</th>\n",
       "      <td>6</td>\n",
       "      <td>I exercise early in the morning and start befo...</td>\n",
       "      <td>0.0</td>\n",
       "      <td>NaN</td>\n",
       "      <td>NaN</td>\n",
       "      <td>NaN</td>\n",
       "      <td>NaN</td>\n",
       "    </tr>\n",
       "    <tr>\n",
       "      <th>3</th>\n",
       "      <td>7</td>\n",
       "      <td>there is a nice atmosphere in the morning ther...</td>\n",
       "      <td>1.0</td>\n",
       "      <td>NaN</td>\n",
       "      <td>NaN</td>\n",
       "      <td>NaN</td>\n",
       "      <td>NaN</td>\n",
       "    </tr>\n",
       "    <tr>\n",
       "      <th>4</th>\n",
       "      <td>8</td>\n",
       "      <td>I trained 4-6 times a week for several years, ...</td>\n",
       "      <td>1.0</td>\n",
       "      <td>1.0</td>\n",
       "      <td>1.0</td>\n",
       "      <td>NaN</td>\n",
       "      <td>NaN</td>\n",
       "    </tr>\n",
       "    <tr>\n",
       "      <th>...</th>\n",
       "      <td>...</td>\n",
       "      <td>...</td>\n",
       "      <td>...</td>\n",
       "      <td>...</td>\n",
       "      <td>...</td>\n",
       "      <td>...</td>\n",
       "      <td>...</td>\n",
       "    </tr>\n",
       "    <tr>\n",
       "      <th>1003</th>\n",
       "      <td>604</td>\n",
       "      <td>Old and No ergonomic equipment for free weight...</td>\n",
       "      <td>-1.0</td>\n",
       "      <td>NaN</td>\n",
       "      <td>-1.0</td>\n",
       "      <td>NaN</td>\n",
       "      <td>NaN</td>\n",
       "    </tr>\n",
       "    <tr>\n",
       "      <th>1004</th>\n",
       "      <td>607</td>\n",
       "      <td>Its nice Gym to work out its clean and well or...</td>\n",
       "      <td>1.0</td>\n",
       "      <td>NaN</td>\n",
       "      <td>NaN</td>\n",
       "      <td>1.0</td>\n",
       "      <td>NaN</td>\n",
       "    </tr>\n",
       "    <tr>\n",
       "      <th>1005</th>\n",
       "      <td>608</td>\n",
       "      <td>Its a nice and clean gym💪. Bra personal. I lov...</td>\n",
       "      <td>1.0</td>\n",
       "      <td>NaN</td>\n",
       "      <td>NaN</td>\n",
       "      <td>1.0</td>\n",
       "      <td>NaN</td>\n",
       "    </tr>\n",
       "    <tr>\n",
       "      <th>1006</th>\n",
       "      <td>609</td>\n",
       "      <td>One the my  favourite place!!!</td>\n",
       "      <td>1.0</td>\n",
       "      <td>NaN</td>\n",
       "      <td>NaN</td>\n",
       "      <td>NaN</td>\n",
       "      <td>NaN</td>\n",
       "    </tr>\n",
       "    <tr>\n",
       "      <th>1007</th>\n",
       "      <td>610</td>\n",
       "      <td>It's a great gym unfortunately they closed the...</td>\n",
       "      <td>0.0</td>\n",
       "      <td>NaN</td>\n",
       "      <td>NaN</td>\n",
       "      <td>NaN</td>\n",
       "      <td>NaN</td>\n",
       "    </tr>\n",
       "  </tbody>\n",
       "</table>\n",
       "<p>1008 rows × 7 columns</p>\n",
       "</div>"
      ],
      "text/plain": [
       "       ID                                               text  Not Determined  \\\n",
       "0       3  Sweet nice young people working, they have a s...             1.0   \n",
       "1       4  Has trained for many years here and Bornholmsv...             1.0   \n",
       "2       6  I exercise early in the morning and start befo...             0.0   \n",
       "3       7  there is a nice atmosphere in the morning ther...             1.0   \n",
       "4       8  I trained 4-6 times a week for several years, ...             1.0   \n",
       "...   ...                                                ...             ...   \n",
       "1003  604  Old and No ergonomic equipment for free weight...            -1.0   \n",
       "1004  607  Its nice Gym to work out its clean and well or...             1.0   \n",
       "1005  608  Its a nice and clean gym💪. Bra personal. I lov...             1.0   \n",
       "1006  609                     One the my  favourite place!!!             1.0   \n",
       "1007  610  It's a great gym unfortunately they closed the...             0.0   \n",
       "\n",
       "      Staff  Equipment  Hygiene  Location  \n",
       "0       1.0        NaN      NaN       NaN  \n",
       "1       1.0        1.0      NaN       NaN  \n",
       "2       NaN        NaN      NaN       NaN  \n",
       "3       NaN        NaN      NaN       NaN  \n",
       "4       1.0        1.0      NaN       NaN  \n",
       "...     ...        ...      ...       ...  \n",
       "1003    NaN       -1.0      NaN       NaN  \n",
       "1004    NaN        NaN      1.0       NaN  \n",
       "1005    NaN        NaN      1.0       NaN  \n",
       "1006    NaN        NaN      NaN       NaN  \n",
       "1007    NaN        NaN      NaN       NaN  \n",
       "\n",
       "[1008 rows x 7 columns]"
      ]
     },
     "execution_count": 3,
     "metadata": {},
     "output_type": "execute_result"
    }
   ],
   "source": [
    "annotations\n",
    "# annotations.to_csv(\"annotations.csv\", index=False)"
   ]
  },
  {
   "cell_type": "markdown",
   "metadata": {},
   "source": [
    "### Calculate Inter Annotator Agreement"
   ]
  },
  {
   "cell_type": "code",
   "execution_count": 4,
   "metadata": {},
   "outputs": [
    {
     "name": "stdout",
     "output_type": "stream",
     "text": [
      "The Fleiss Kappa for IAA is 0.25.\n"
     ]
    }
   ],
   "source": [
    "# The categories are in the columns (except the first two: \"ID\" and \"text\")\n",
    "categories = annotations.columns[2:]\n",
    "# The possible labels are 1.0 (Positive), 0.0 (Neutral), -1.0 (Negative) or NAN (if no sentiment)\n",
    "labels = [1.0, 0.0, -1.0, i.np.nan]\n",
    "\n",
    "IAA = i.fleiss_kappa(annotations, categories, labels=labels)\n",
    "\n",
    "print(f\"The Fleiss Kappa for IAA is {IAA:.2f}.\")\n",
    "\n",
    "# for each category we count how many times each of the 4 labels (1.0, 0.0, -1.0, NaN) was assigned\n",
    "# every 4 columns is assigned to a category in the order they are in annoation table\n",
    "# columns order is like this : (1.0, 0.0, -1.0, NaN) and gets repeated * 5 (5 categories)"
   ]
  },
  {
   "cell_type": "markdown",
   "metadata": {},
   "source": [
    "### Calculate Inter Annotator Agreement for each category"
   ]
  },
  {
   "cell_type": "code",
   "execution_count": 5,
   "metadata": {},
   "outputs": [
    {
     "name": "stdout",
     "output_type": "stream",
     "text": [
      "The Fleiss Kappa for the category 'Not Determined' is 0.76.\n",
      "The Fleiss Kappa for the category 'Staff' is 0.83.\n",
      "The Fleiss Kappa for the category 'Equipment' is 0.82.\n",
      "The Fleiss Kappa for the category 'Hygiene' is 1.00.\n",
      "The Fleiss Kappa for the category 'Location' is 0.66.\n"
     ]
    }
   ],
   "source": [
    "# The categories are in the columns (except the first two: \"ID\" and \"text\")\n",
    "categories = annotations.columns[2:]\n",
    "# The possible labels are 1.0 (Positive), 0.0 (Neutral), -1.0 (Negative) or np.nan (if no sentiment)\n",
    "labels = [1.0, 0.0, -1.0, i.np.nan]\n",
    "\n",
    "IAA = i.fleiss_kappa_by_category(annotations, categories, labels=labels)\n",
    "\n",
    "# printing Fleiss Kappa for each category\n",
    "for category, kappa in IAA.items():\n",
    "    print(f\"The Fleiss Kappa for the category '{category}' is {kappa:.2f}.\")\n",
    "    \n",
    "# in this case in calculating fleiss kappa for each category  \n",
    "#   1) we have 100 reviews, \n",
    "#   2) with each column corresponding to one of the labels (1.0, 0.0, -1.0, NaN)\n",
    "#   3) the value in each cell indicates the number of raters who assigned that label to the review for that category"
   ]
  }
 ],
 "metadata": {
  "kernelspec": {
   "display_name": "Python 3",
   "language": "python",
   "name": "python3"
  },
  "language_info": {
   "codemirror_mode": {
    "name": "ipython",
    "version": 3
   },
   "file_extension": ".py",
   "mimetype": "text/x-python",
   "name": "python",
   "nbconvert_exporter": "python",
   "pygments_lexer": "ipython3",
   "version": "3.10.11"
  }
 },
 "nbformat": 4,
 "nbformat_minor": 2
}
