{
 "cells": [
  {
   "cell_type": "markdown",
   "metadata": {},
   "source": [
    "#### TRANSLATION METRICS\n"
   ]
  },
  {
   "cell_type": "code",
   "execution_count": 25,
   "metadata": {},
   "outputs": [
    {
     "data": {
      "text/plain": [
       "<module 'imports' from 'c:\\\\Users\\\\Veronii\\\\Desktop\\\\data-wild-west\\\\code\\\\imports.py'>"
      ]
     },
     "execution_count": 25,
     "metadata": {},
     "output_type": "execute_result"
    }
   ],
   "source": [
    "# import pandas as pd\n",
    "# from nltk.translate.bleu_score import sentence_bleu\n",
    "import imports as i\n",
    "import importlib\n",
    "importlib.reload(i)"
   ]
  },
  {
   "cell_type": "markdown",
   "metadata": {},
   "source": [
    "#### Load the human translations and the machine translations"
   ]
  },
  {
   "cell_type": "code",
   "execution_count": 26,
   "metadata": {},
   "outputs": [],
   "source": [
    "# Translations folder\n",
    "filepath = \"../Translations/human_translations.csv\"\n",
    "\n",
    "human = i.pd.read_csv(filepath)\n",
    "machine = i.pd.read_csv(\"../data/trustpilot_reviews_translated.csv\", encoding=\"utf-16\")\n",
    "machine = machine[[\"review\", \"translated_reviews\"]]\n",
    "machine.rename(columns={\"review\": \"text\", \"translated_reviews\": \"machine\"}, inplace=True)\n",
    "human.rename(columns={\"review\": \"text\", \"translation\": \"human\"}, inplace=True)"
   ]
  },
  {
   "cell_type": "code",
   "execution_count": 27,
   "metadata": {},
   "outputs": [],
   "source": [
    "translations = human.merge(machine, on=\"text\", how=\"inner\")"
   ]
  },
  {
   "cell_type": "code",
   "execution_count": 29,
   "metadata": {},
   "outputs": [
    {
     "name": "stdout",
     "output_type": "stream",
     "text": [
      "{'bleu': 0.30903990631811756, 'precisions': [0.6718659734257655, 0.3984764137122766, 0.25951248513674197, 0.17164404223227753], 'brevity_penalty': 0.9351827753710158, 'length_ratio': 0.9371954520844613, 'translation_length': 3462, 'reference_length': 3694}\n"
     ]
    }
   ],
   "source": [
    "references = translations.human\n",
    "predictions = translations.machine\n",
    "\n",
    "bleu = i.load(\"bleu\")\n",
    "results = bleu.compute(predictions=predictions, references=references)\n",
    "print(results)"
   ]
  }
 ],
 "metadata": {
  "kernelspec": {
   "display_name": "Python 3",
   "language": "python",
   "name": "python3"
  },
  "language_info": {
   "codemirror_mode": {
    "name": "ipython",
    "version": 3
   },
   "file_extension": ".py",
   "mimetype": "text/x-python",
   "name": "python",
   "nbconvert_exporter": "python",
   "pygments_lexer": "ipython3",
   "version": "3.10.11"
  }
 },
 "nbformat": 4,
 "nbformat_minor": 2
}
