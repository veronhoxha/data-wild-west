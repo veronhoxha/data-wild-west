{
 "cells": [
  {
   "cell_type": "markdown",
   "metadata": {},
   "source": [
    "# Notebook to scrape dynamic webpage from Copenhagen Municipality\n",
    "This notebook contains the code used to scrape information from exercise facilities, collected and published by Copenhagen Municipality.\n",
    "Since the table displayed on the website is generated according to filters from an interactive map, it was apparently required to use Selenium to appropriately access the desired data."
   ]
  },
  {
   "cell_type": "code",
   "execution_count": 1,
   "metadata": {},
   "outputs": [
    {
     "name": "stderr",
     "output_type": "stream",
     "text": [
      "c:\\Users\\Veronii\\AppData\\Local\\Programs\\Python\\Python310\\lib\\site-packages\\tqdm\\auto.py:21: TqdmWarning: IProgress not found. Please update jupyter and ipywidgets. See https://ipywidgets.readthedocs.io/en/stable/user_install.html\n",
      "  from .autonotebook import tqdm as notebook_tqdm\n"
     ]
    },
    {
     "data": {
      "text/plain": [
       "<module 'imports' from 'c:\\\\Users\\\\Veronii\\\\Desktop\\\\data-wild-west\\\\code\\\\imports.py'>"
      ]
     },
     "execution_count": 1,
     "metadata": {},
     "output_type": "execute_result"
    }
   ],
   "source": [
    "# import requests \n",
    "# import re \n",
    "# from bs4 import BeautifulSoup\n",
    "# import pandas as pd\n",
    "# import regex as re\n",
    "# import os\n",
    "# import time\n",
    "# from selenium.webdriver import Chrome\n",
    "# from selenium.webdriver import ChromeOptions\n",
    "# from selenium.webdriver.common.by import By\n",
    "# from selenium.common.exceptions import NoSuchElementException\n",
    "# from tqdm import tqdm\n",
    "# import numpy as np\n",
    "\n",
    "import imports as i\n",
    "import importlib\n",
    "importlib.reload(i)"
   ]
  },
  {
   "cell_type": "code",
   "execution_count": 2,
   "metadata": {},
   "outputs": [],
   "source": [
    "# Define URL\n",
    "url = 'https://kbhkort.kk.dk/spatialmap?page=widget-view&name=motion/motionslisten'"
   ]
  },
  {
   "cell_type": "code",
   "execution_count": 3,
   "metadata": {},
   "outputs": [
    {
     "name": "stderr",
     "output_type": "stream",
     "text": [
      "C:\\Users\\Veronii\\AppData\\Local\\Temp\\ipykernel_23272\\3932252778.py:5: DeprecationWarning: headless property is deprecated, instead use add_argument('--headless') or add_argument('--headless=new')\n",
      "  options.headless = True         # This stops an actual browser from being open and shown\n"
     ]
    },
    {
     "ename": "TypeError",
     "evalue": "WebDriver.__init__() got multiple values for argument 'options'",
     "output_type": "error",
     "traceback": [
      "\u001b[1;31m---------------------------------------------------------------------------\u001b[0m",
      "\u001b[1;31mTypeError\u001b[0m                                 Traceback (most recent call last)",
      "\u001b[1;32mc:\\Users\\Veronii\\Desktop\\data-wild-west\\code\\01.4-Get_KBH_Training_Facilities.ipynb Cell 4\u001b[0m line \u001b[0;36m6\n\u001b[0;32m      <a href='vscode-notebook-cell:/c%3A/Users/Veronii/Desktop/data-wild-west/code/01.4-Get_KBH_Training_Facilities.ipynb#W3sZmlsZQ%3D%3D?line=3'>4</a>\u001b[0m options \u001b[39m=\u001b[39m i\u001b[39m.\u001b[39mChromeOptions()       \u001b[39m# Get Chrome options\u001b[39;00m\n\u001b[0;32m      <a href='vscode-notebook-cell:/c%3A/Users/Veronii/Desktop/data-wild-west/code/01.4-Get_KBH_Training_Facilities.ipynb#W3sZmlsZQ%3D%3D?line=4'>5</a>\u001b[0m options\u001b[39m.\u001b[39mheadless \u001b[39m=\u001b[39m \u001b[39mTrue\u001b[39;00m         \u001b[39m# This stops an actual browser from being open and shown\u001b[39;00m\n\u001b[1;32m----> <a href='vscode-notebook-cell:/c%3A/Users/Veronii/Desktop/data-wild-west/code/01.4-Get_KBH_Training_Facilities.ipynb#W3sZmlsZQ%3D%3D?line=5'>6</a>\u001b[0m driver \u001b[39m=\u001b[39m i\u001b[39m.\u001b[39;49mChrome(\u001b[39m'\u001b[39;49m\u001b[39mlibraries/chromedriver-win64/chromedriver.exe\u001b[39;49m\u001b[39m'\u001b[39;49m, options\u001b[39m=\u001b[39;49moptions)  \u001b[39m# Optional argument, if not specified will search path.\u001b[39;00m\n\u001b[0;32m      <a href='vscode-notebook-cell:/c%3A/Users/Veronii/Desktop/data-wild-west/code/01.4-Get_KBH_Training_Facilities.ipynb#W3sZmlsZQ%3D%3D?line=6'>7</a>\u001b[0m driver\u001b[39m.\u001b[39mget(url)\n\u001b[0;32m      <a href='vscode-notebook-cell:/c%3A/Users/Veronii/Desktop/data-wild-west/code/01.4-Get_KBH_Training_Facilities.ipynb#W3sZmlsZQ%3D%3D?line=8'>9</a>\u001b[0m \u001b[39mprint\u001b[39m(\u001b[39m\"\u001b[39m\u001b[39mDriver and URL passed. Wait a second...\u001b[39m\u001b[39m\"\u001b[39m)\n",
      "\u001b[1;31mTypeError\u001b[0m: WebDriver.__init__() got multiple values for argument 'options'"
     ]
    }
   ],
   "source": [
    "# Initialise a dictionary to hold the scraped data\n",
    "data = {'type':[], 'activity':[], 'location':[], 'website':[], 'gender':[], 'age':[], 'special':[], 'address':[]}\n",
    "\n",
    "options = i.ChromeOptions()       # Get Chrome options\n",
    "options.headless = True         # This stops an actual browser from being open and shown\n",
    "driver = i.Chrome('libraries/chromedriver-win64/chromedriver.exe', options=options)  # Optional argument, if not specified will search path.\n",
    "driver.get(url)\n",
    "\n",
    "print(\"Driver and URL passed. Wait a second...\")\n",
    "driver.implicitly_wait(20) # Wait for the website to load\n",
    "\n",
    "count = len(driver.find_elements(By.XPATH, '/html/body/div/div[4]/div/ul/li'))\n",
    "print(f'There is a total of {count} entries.')\n",
    "\n",
    "# At the time of writing, there were 606 entries (2023-11-16)\n",
    "for j in i.tqdm(range(1, count+1)): \n",
    "\n",
    "    # Activity type/category - this is indicated by the associated icon. The icon name is collected.\n",
    "    icon = driver.find_element(By.XPATH, f'/html/body/div/div[4]/div/ul/li[{j}]/div[1]/img')\n",
    "    data['type'].append(icon.get_attribute('src'))\n",
    "\n",
    "    # Name/title of the activity\n",
    "    type = driver.find_element(By.XPATH, f'/html/body/div/div[4]/div/ul/li[{j}]/div[2]/div[1]/strong[1]')\n",
    "    data['activity'].append(type.text)\n",
    "\n",
    "    # Location of activity - not all entries list a location\n",
    "    try:\n",
    "        location = driver.find_element(By.XPATH, f'/html/body/div/div[4]/div/ul/li[{j}]/div[2]/div[1]/strong[2]')\n",
    "        data['location'].append(location.text)\n",
    "    except i.NoSuchElementException:\n",
    "        data['location'].append(None)\n",
    "\n",
    "    # Website\n",
    "    try:\n",
    "        site = driver.find_element(By.XPATH, f'/html/body/div/div[4]/div/ul/li[{j}]/div[2]/div[2]/span[1]/a')\n",
    "        data['website'].append(site.get_attribute('href'))\n",
    "    except i.NoSuchElementException:\n",
    "        data['website'].append(None)\n",
    "    \n",
    "\n",
    "    # Gender\n",
    "    gender = driver.find_element(By.XPATH, f'/html/body/div/div[4]/div/ul/li[{j}]/div[2]/div[2]/span[4]') # This works\n",
    "    data['gender'].append(gender.text)\n",
    "\n",
    "    # Age Group\n",
    "    age = driver.find_element(By.XPATH, f'/html/body/div/div[4]/div/ul/li[{j}]/div[2]/div[2]/span[5]')\n",
    "    data['age'].append(age.text)\n",
    "\n",
    "    \"\"\" # Special case + address\n",
    "    try:\n",
    "        special = driver.find_element(By.XPATH, f'/html/body/div/div[4]/div/ul/li[{j}]/div[2]/div[2]/span[6]')\n",
    "        if not special.text.startswith(\"| Særlig\"):\n",
    "            data['special'].append(None)\n",
    "        else:\n",
    "            data['special'].append(special.text)\n",
    "    except NoSuchElementException:\n",
    "        data['special'].append(None) \"\"\"\n",
    "\n",
    "    # Address of activity - some entries have an extra field, so this messess with the current XPath implementation\n",
    "    # Therefore, each element needs to be checked that it is indeed an address.\n",
    "    # Luckily, all address entries in the table contain the prefix 'Mødested' (meeting place).\n",
    "    try:\n",
    "        address = driver.find_element(By.XPATH, f'/html/body/div/div[4]/div/ul/li[{j}]/div[2]/div[2]/span[6]')\n",
    "        if not address.text.startswith('Mødested: ') and address.text.startswith(\"| Særlig\"): # Check that the text is indeed the address\n",
    "            data['special'].append(address.text)\n",
    "            try:\n",
    "                address = driver.find_element(By.XPATH, f'/html/body/div/div[4]/div/ul/li[{j}]/div[2]/div[2]/span[7]')\n",
    "                data['address'].append(address.text) #.removeprefix('Mødested: '))\n",
    "            except i.NoSuchElementException:\n",
    "                data['address'].append(None)\n",
    "        else:\n",
    "            data['special'].append(None)\n",
    "            data['address'].append(address.text) #.removeprefix('Mødested: '))\n",
    "    except i.NoSuchElementException:\n",
    "        data['special'].append(None)\n",
    "        data['address'].append(None)\n",
    "\n",
    "driver.quit()"
   ]
  },
  {
   "cell_type": "code",
   "execution_count": 4,
   "metadata": {},
   "outputs": [
    {
     "data": {
      "text/html": [
       "<div>\n",
       "<style scoped>\n",
       "    .dataframe tbody tr th:only-of-type {\n",
       "        vertical-align: middle;\n",
       "    }\n",
       "\n",
       "    .dataframe tbody tr th {\n",
       "        vertical-align: top;\n",
       "    }\n",
       "\n",
       "    .dataframe thead th {\n",
       "        text-align: right;\n",
       "    }\n",
       "</style>\n",
       "<table border=\"1\" class=\"dataframe\">\n",
       "  <thead>\n",
       "    <tr style=\"text-align: right;\">\n",
       "      <th></th>\n",
       "      <th>type</th>\n",
       "      <th>activity</th>\n",
       "      <th>location</th>\n",
       "      <th>website</th>\n",
       "      <th>gender</th>\n",
       "      <th>age</th>\n",
       "      <th>special</th>\n",
       "      <th>address</th>\n",
       "    </tr>\n",
       "  </thead>\n",
       "  <tbody>\n",
       "  </tbody>\n",
       "</table>\n",
       "</div>"
      ],
      "text/plain": [
       "Empty DataFrame\n",
       "Columns: [type, activity, location, website, gender, age, special, address]\n",
       "Index: []"
      ]
     },
     "execution_count": 4,
     "metadata": {},
     "output_type": "execute_result"
    }
   ],
   "source": [
    "# Create and inspect the dataframe\n",
    "df_raw = i.pd.DataFrame.from_dict(data)\n",
    "df_raw.head()"
   ]
  },
  {
   "cell_type": "code",
   "execution_count": 5,
   "metadata": {},
   "outputs": [],
   "source": [
    "# Save the dataframe. The encoding 'utf-16' had to be used to ensure the danish special characters of 'æ, ø, å' were present.\n",
    "# Using the default encoding did not work.\n",
    "\n",
    "#cwd = os.getcwd()\n",
    "PATH = '../data/raw_data/'\n",
    "path = PATH + \"/kbh_facilities_v2.csv\"\n",
    "df_raw.to_csv(path, encoding='utf-16', index=False)"
   ]
  },
  {
   "cell_type": "markdown",
   "metadata": {},
   "source": [
    "# Read in existing CSV:"
   ]
  },
  {
   "cell_type": "code",
   "execution_count": 6,
   "metadata": {},
   "outputs": [
    {
     "name": "stdout",
     "output_type": "stream",
     "text": [
      "The 0 entries consist of 0 unique activity names.\n"
     ]
    },
    {
     "data": {
      "text/html": [
       "<div>\n",
       "<style scoped>\n",
       "    .dataframe tbody tr th:only-of-type {\n",
       "        vertical-align: middle;\n",
       "    }\n",
       "\n",
       "    .dataframe tbody tr th {\n",
       "        vertical-align: top;\n",
       "    }\n",
       "\n",
       "    .dataframe thead th {\n",
       "        text-align: right;\n",
       "    }\n",
       "</style>\n",
       "<table border=\"1\" class=\"dataframe\">\n",
       "  <thead>\n",
       "    <tr style=\"text-align: right;\">\n",
       "      <th></th>\n",
       "      <th>type</th>\n",
       "      <th>activity</th>\n",
       "      <th>location</th>\n",
       "      <th>website</th>\n",
       "      <th>gender</th>\n",
       "      <th>age</th>\n",
       "      <th>special</th>\n",
       "      <th>address</th>\n",
       "    </tr>\n",
       "  </thead>\n",
       "  <tbody>\n",
       "  </tbody>\n",
       "</table>\n",
       "</div>"
      ],
      "text/plain": [
       "Empty DataFrame\n",
       "Columns: [type, activity, location, website, gender, age, special, address]\n",
       "Index: []"
      ]
     },
     "execution_count": 6,
     "metadata": {},
     "output_type": "execute_result"
    }
   ],
   "source": [
    "# Read in CSV, ensure correct encoding is used.\n",
    "\n",
    "df = i.pd.read_csv('../data/raw_data/kbh_facilities_v2.csv', encoding='utf-16').fillna(value='None')\n",
    "\n",
    "print(f'The {len(df)} entries consist of {len(i.np.unique(df[\"activity\"], return_counts = True)[0])} unique activity names.')\n",
    "df.head()"
   ]
  },
  {
   "cell_type": "markdown",
   "metadata": {},
   "source": [
    "# Data Cleaning\n",
    "Unfortunately, there are too many unique exercise types present in the default description."
   ]
  },
  {
   "cell_type": "code",
   "execution_count": 7,
   "metadata": {},
   "outputs": [],
   "source": [
    "df_test = df.copy()"
   ]
  },
  {
   "cell_type": "code",
   "execution_count": 8,
   "metadata": {},
   "outputs": [],
   "source": [
    "dict_type = {'https://kbhkort.kk.dk/images/ikoner/suf/sundhed/boldspil_26x26.png': 'ball_sports',\n",
    "             'https://kbhkort.kk.dk/images/ikoner/suf/sundhed/dans_26x26.png': 'dance',\n",
    "             'https://kbhkort.kk.dk/images/ikoner/suf/sundhed/fitness_26x26.png': 'fitness',\n",
    "             'https://kbhkort.kk.dk/images/ikoner/suf/sundhed/gym_26x26.png': 'gym',\n",
    "             'https://kbhkort.kk.dk/images/ikoner/suf/sundhed/kampsport_26x26.png': 'martial_arts',\n",
    "             'https://kbhkort.kk.dk/images/ikoner/suf/sundhed/loeb_26x26.png': 'running',\n",
    "             'https://kbhkort.kk.dk/images/ikoner/suf/sundhed/natur_26x26.png': 'nature',\n",
    "             'https://kbhkort.kk.dk/images/ikoner/suf/sundhed/svoemning_26x26.png': 'swimming',\n",
    "             'https://kbhkort.kk.dk/images/ikoner/suf/sundhed/udemotion_26x26.png': 'outdoors',\n",
    "             'https://kbhkort.kk.dk/images/ikoner/suf/sundhed/yoga_26x26.png': 'yoga'}\n",
    "dict_gender = {'Køn: Begge':'both', 'Køn: Kvinder':'women', 'Køn: Mænd':'men'}\n",
    "dict_age = {'| Aldersgruppe: Alle': 'all', '| Aldersgruppe: Seniorer': 'seniors'}\n",
    "dict_special = {'+ 65 år':'65+',\n",
    "                '+60':'60+', \n",
    "                '+60 år':'60+', \n",
    "                '+65':'65+', \n",
    "                '+65 år':'65+',\n",
    "                '65+ år':'65+',\n",
    "                'Kvinder 45 +':'45+', \n",
    "                'Kvinder 65+ år':'65+',\n",
    "                'Mænd 65 år+':'65+',\n",
    "                'PAN har fokus på inklusion af mennesker med et særligt fokus på seksuel mangfoldighed og kønsdiversitet.':'PAN har fokus på inklusion af mennesker med et særligt fokus på seksuel mangfoldighed og kønsdiversitet',\n",
    "                'mænd +65 år':'65+'}\n",
    "dict_address = {\"\":\"None\"}\n",
    "\n",
    "df_test[\"special\"] = df_test[\"special\"].apply(lambda s:s.replace('| Særlig målgruppe: ', ''))\n",
    "df_test[\"address\"] = (df_test[\"address\"].str.removeprefix(\"Mødested:\")).str.strip()\n",
    "\n",
    "mask = df_test[\"location\"]=='Kommunal park'\n",
    "df_test.loc[mask, [\"activity\", \"location\"]] = (df_test.loc[mask, [\"location\",\"activity\"]].values)"
   ]
  },
  {
   "cell_type": "code",
   "execution_count": 9,
   "metadata": {},
   "outputs": [
    {
     "data": {
      "text/html": [
       "<div>\n",
       "<style scoped>\n",
       "    .dataframe tbody tr th:only-of-type {\n",
       "        vertical-align: middle;\n",
       "    }\n",
       "\n",
       "    .dataframe tbody tr th {\n",
       "        vertical-align: top;\n",
       "    }\n",
       "\n",
       "    .dataframe thead th {\n",
       "        text-align: right;\n",
       "    }\n",
       "</style>\n",
       "<table border=\"1\" class=\"dataframe\">\n",
       "  <thead>\n",
       "    <tr style=\"text-align: right;\">\n",
       "      <th></th>\n",
       "      <th>type</th>\n",
       "      <th>activity</th>\n",
       "      <th>location</th>\n",
       "      <th>website</th>\n",
       "      <th>gender</th>\n",
       "      <th>age</th>\n",
       "      <th>special</th>\n",
       "      <th>address</th>\n",
       "    </tr>\n",
       "  </thead>\n",
       "  <tbody>\n",
       "  </tbody>\n",
       "</table>\n",
       "</div>"
      ],
      "text/plain": [
       "Empty DataFrame\n",
       "Columns: [type, activity, location, website, gender, age, special, address]\n",
       "Index: []"
      ]
     },
     "execution_count": 9,
     "metadata": {},
     "output_type": "execute_result"
    }
   ],
   "source": [
    "df_test = df_test.replace({\"type\": dict_type, \"gender\": dict_gender, \"age\": dict_age, \"special\":dict_special, \"address\":dict_address})\n",
    "df_test.tail()"
   ]
  },
  {
   "cell_type": "code",
   "execution_count": 10,
   "metadata": {},
   "outputs": [],
   "source": [
    "temp = {'health':['fysio', 'hjært', 'nær', 'puls', 'hjert', 'mind', 'knæ', 'ryg', 'senior', 'stabil', 'mobil'],\n",
    "        'sport':['bold', 'ball', 'tennis', 'minton', 'golf', 'cricket', 'volley'], \n",
    "        'fitness':['yoga', 'træn', 'gym', 'motion', 'fitness', 'cyk', 'løb', 'stav', 'cross', 'ro', 'kajak', 'zumba', 'pilates', 'kamp', 'svøm', 'spin', 'kondi'], \n",
    "        'recreation':['billiard', 'billard', 'dart', 'dans', 'dance', 'bowl', 'gå', 'walk', 'spil', 'petanque', 'park', 'have'] \n",
    "        }\n",
    "\n",
    "dict_activity = {}\n",
    "for k,v in temp.items():\n",
    "    for x in v:\n",
    "        dict_activity.setdefault(x,k)\n",
    "\n",
    "#dict_activity\n",
    "\n",
    "temp = df_test[\"activity\"].copy()\n",
    "for j in range(len(temp)):\n",
    "    for key in dict_activity.keys():\n",
    "        if i.re.search(key, temp[j].lower()): #      key in temp[i].lower():\n",
    "            #print(f'we replace {temp[i]} with {dict_activity[key]}')\n",
    "            temp[j] = str(dict_activity[key].strip(\"\"))\n",
    "            break\n",
    "        #else:\n",
    "            #print(f'i is {i} for {temp[i]}, search for {key}')\n",
    "    if temp[j] not in dict_activity.values():\n",
    "        #print(i, temp[i])\n",
    "        temp[j] = \"other\"\n",
    "\n",
    "sorted(list(zip(i.np.unique(temp, return_counts=True)[0], i.np.unique(temp, return_counts=True)[1])), key = lambda x:x[1]), len(i.np.unique(temp, return_counts=True)[0])\n",
    "\n",
    "df_test[\"category\"] = temp\n"
   ]
  },
  {
   "cell_type": "code",
   "execution_count": 11,
   "metadata": {},
   "outputs": [
    {
     "data": {
      "text/html": [
       "<div>\n",
       "<style scoped>\n",
       "    .dataframe tbody tr th:only-of-type {\n",
       "        vertical-align: middle;\n",
       "    }\n",
       "\n",
       "    .dataframe tbody tr th {\n",
       "        vertical-align: top;\n",
       "    }\n",
       "\n",
       "    .dataframe thead th {\n",
       "        text-align: right;\n",
       "    }\n",
       "</style>\n",
       "<table border=\"1\" class=\"dataframe\">\n",
       "  <thead>\n",
       "    <tr style=\"text-align: right;\">\n",
       "      <th></th>\n",
       "      <th>type</th>\n",
       "      <th>activity</th>\n",
       "      <th>category</th>\n",
       "      <th>location</th>\n",
       "      <th>website</th>\n",
       "      <th>gender</th>\n",
       "      <th>age</th>\n",
       "      <th>special</th>\n",
       "      <th>address</th>\n",
       "    </tr>\n",
       "  </thead>\n",
       "  <tbody>\n",
       "  </tbody>\n",
       "</table>\n",
       "</div>"
      ],
      "text/plain": [
       "Empty DataFrame\n",
       "Columns: [type, activity, category, location, website, gender, age, special, address]\n",
       "Index: []"
      ]
     },
     "execution_count": 11,
     "metadata": {},
     "output_type": "execute_result"
    }
   ],
   "source": [
    "df_test = df_test[['type', 'activity', 'category', 'location', 'website', 'gender', 'age', 'special','address']]\n",
    "df_test.tail(10)"
   ]
  },
  {
   "cell_type": "code",
   "execution_count": 12,
   "metadata": {},
   "outputs": [
    {
     "data": {
      "text/plain": [
       "' np.unique(df_test[\"gender\"], return_counts = True)\\nnp.unique(df_test[\"age\"], return_counts = True)\\nlen(np.unique(df_test[\"activity\"], return_counts = True)[0]), np.unique(df_test[\"activity\"], return_counts = True)[0] '"
      ]
     },
     "execution_count": 12,
     "metadata": {},
     "output_type": "execute_result"
    }
   ],
   "source": [
    "\"\"\" np.unique(df_test[\"gender\"], return_counts = True)\n",
    "np.unique(df_test[\"age\"], return_counts = True)\n",
    "len(np.unique(df_test[\"activity\"], return_counts = True)[0]), np.unique(df_test[\"activity\"], return_counts = True)[0] \"\"\""
   ]
  }
 ],
 "metadata": {
  "kernelspec": {
   "display_name": "wild",
   "language": "python",
   "name": "python3"
  },
  "language_info": {
   "codemirror_mode": {
    "name": "ipython",
    "version": 3
   },
   "file_extension": ".py",
   "mimetype": "text/x-python",
   "name": "python",
   "nbconvert_exporter": "python",
   "pygments_lexer": "ipython3",
   "version": "3.10.11"
  },
  "orig_nbformat": 4
 },
 "nbformat": 4,
 "nbformat_minor": 2
}
