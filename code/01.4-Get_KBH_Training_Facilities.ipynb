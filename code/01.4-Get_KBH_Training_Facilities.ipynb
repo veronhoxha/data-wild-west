{
 "cells": [
  {
   "cell_type": "code",
   "execution_count": 22,
   "metadata": {},
   "outputs": [],
   "source": [
    "import requests # http requests\n",
    "import re # regular expressions\n",
    "from bs4 import BeautifulSoup # xml parsing\n",
    "import pandas as pd\n",
    "import regex as re\n",
    "import os\n",
    "import time\n",
    "from selenium.webdriver import Chrome\n",
    "from selenium.webdriver import ChromeOptions\n",
    "from selenium.webdriver.common.by import By\n",
    "from selenium.common.exceptions import NoSuchElementException\n",
    "from tqdm import tqdm"
   ]
  },
  {
   "cell_type": "code",
   "execution_count": 23,
   "metadata": {},
   "outputs": [],
   "source": [
    "url = 'https://kbhkort.kk.dk/spatialmap?page=widget-view&name=motion/motionslisten'"
   ]
  },
  {
   "cell_type": "code",
   "execution_count": 83,
   "metadata": {},
   "outputs": [
    {
     "name": "stdout",
     "output_type": "stream",
     "text": [
      "Driver and URL passed. Wait a second...\n",
      "There is a total of 610 entries.\n"
     ]
    },
    {
     "name": "stderr",
     "output_type": "stream",
     "text": [
      "100%|██████████| 610/610 [57:20<00:00,  5.64s/it]  \n"
     ]
    }
   ],
   "source": [
    "data = {'type':[], 'website':[], 'location':[], 'address':[]}\n",
    "\n",
    "options = ChromeOptions()       # Get Chrome options\n",
    "options.headless = True         # This stops an actual browser from being open and shown\n",
    "\n",
    "driver = Chrome(r\"C:\\Users\\chris\\OneDrive\\MSc\\KDS_A2023_Web\\chromedriver-win64\\chromedriver.exe\", options=options)  # Optional argument, if not specified will search path.\n",
    "driver.get(url)\n",
    "\n",
    "print(\"Driver and URL passed. Wait a second...\")\n",
    "driver.implicitly_wait(20) # Let the user actually see something!\n",
    "\n",
    "count = len(driver.find_elements(By.XPATH, '/html/body/div/div[4]/div/ul/li'))\n",
    "print(f'There is a total of {count} entries.')\n",
    "\n",
    "for i in tqdm(range(1, count+1)): # count+1\n",
    "    # Type of activity\n",
    "    type = driver.find_element(By.XPATH, f'/html/body/div/div[4]/div/ul/li[{i}]/div[2]/div[1]/strong[1]')\n",
    "    data['type'].append(type.text)\n",
    "\n",
    "    # Location of activity - not all entries list a location\n",
    "    try:\n",
    "        location = driver.find_element(By.XPATH, f'/html/body/div/div[4]/div/ul/li[{i}]/div[2]/div[1]/strong[2]')\n",
    "        data['location'].append(location.text)\n",
    "    except NoSuchElementException:\n",
    "        data['location'].append(None)\n",
    "    # Website\n",
    "    try:\n",
    "        site = driver.find_element(By.XPATH, f'/html/body/div/div[4]/div/ul/li[{i}]/div[2]/div[2]/span[1]/a')\n",
    "        data['website'].append(site.get_attribute('href'))\n",
    "    except NoSuchElementException:\n",
    "        data['website'].append(None)\n",
    "\n",
    "    # Address of activity - some entries have an extra field, so this messess with the current (janky) XPath implementation\n",
    "    try:\n",
    "        address = driver.find_element(By.XPATH, f'/html/body/div/div[4]/div/ul/li[{i}]/div[2]/div[2]/span[6]')\n",
    "        if not address.text.startswith('Mødested: '): # Check that the text is indeed the address\n",
    "            try:\n",
    "                address = driver.find_element(By.XPATH, f'/html/body/div/div[4]/div/ul/li[{i}]/div[2]/div[2]/span[7]')\n",
    "                data['address'].append((address.text).removeprefix('Mødested: '))\n",
    "            except NoSuchElementException:\n",
    "                data['address'].append(None)\n",
    "        else: \n",
    "            data['address'].append((address.text).removeprefix('Mødested: '))\n",
    "    except NoSuchElementException:\n",
    "        data['address'].append(None)\n",
    "\n",
    "driver.quit()"
   ]
  },
  {
   "cell_type": "code",
   "execution_count": 86,
   "metadata": {},
   "outputs": [
    {
     "data": {
      "text/html": [
       "<div>\n",
       "<style scoped>\n",
       "    .dataframe tbody tr th:only-of-type {\n",
       "        vertical-align: middle;\n",
       "    }\n",
       "\n",
       "    .dataframe tbody tr th {\n",
       "        vertical-align: top;\n",
       "    }\n",
       "\n",
       "    .dataframe thead th {\n",
       "        text-align: right;\n",
       "    }\n",
       "</style>\n",
       "<table border=\"1\" class=\"dataframe\">\n",
       "  <thead>\n",
       "    <tr style=\"text-align: right;\">\n",
       "      <th></th>\n",
       "      <th>type</th>\n",
       "      <th>website</th>\n",
       "      <th>location</th>\n",
       "      <th>address</th>\n",
       "    </tr>\n",
       "  </thead>\n",
       "  <tbody>\n",
       "    <tr>\n",
       "      <th>605</th>\n",
       "      <td>Mix Volley</td>\n",
       "      <td>https://ifk98.dk/default.aspx</td>\n",
       "      <td>Idrætsforeningen Kæmperne</td>\n",
       "      <td>Øster Farimagsgade Skole, Multisalen</td>\n",
       "    </tr>\n",
       "    <tr>\n",
       "      <th>606</th>\n",
       "      <td>Motionsgymnastik</td>\n",
       "      <td>https://ifk98.dk/default.aspx</td>\n",
       "      <td>Idrætsforeningen Kæmperne</td>\n",
       "      <td>None</td>\n",
       "    </tr>\n",
       "    <tr>\n",
       "      <th>607</th>\n",
       "      <td>Cykeltur - roligt tempo</td>\n",
       "      <td>https://ifk98.dk/default.aspx</td>\n",
       "      <td>Idrætsforeningen Kæmperne</td>\n",
       "      <td>None</td>\n",
       "    </tr>\n",
       "    <tr>\n",
       "      <th>608</th>\n",
       "      <td>Varmtvandsgymnastik</td>\n",
       "      <td>https://ifk98.dk/default.aspx</td>\n",
       "      <td>Idrætsforeningen Kæmperne</td>\n",
       "      <td>None</td>\n",
       "    </tr>\n",
       "    <tr>\n",
       "      <th>609</th>\n",
       "      <td>Bordtennis</td>\n",
       "      <td>https://ifk98.dk/default.aspx</td>\n",
       "      <td>Idrætsforeningen Kæmperne</td>\n",
       "      <td>Remisen</td>\n",
       "    </tr>\n",
       "  </tbody>\n",
       "</table>\n",
       "</div>"
      ],
      "text/plain": [
       "                        type                        website  \\\n",
       "605               Mix Volley  https://ifk98.dk/default.aspx   \n",
       "606         Motionsgymnastik  https://ifk98.dk/default.aspx   \n",
       "607  Cykeltur - roligt tempo  https://ifk98.dk/default.aspx   \n",
       "608      Varmtvandsgymnastik  https://ifk98.dk/default.aspx   \n",
       "609               Bordtennis  https://ifk98.dk/default.aspx   \n",
       "\n",
       "                      location                               address  \n",
       "605  Idrætsforeningen Kæmperne  Øster Farimagsgade Skole, Multisalen  \n",
       "606  Idrætsforeningen Kæmperne                                  None  \n",
       "607  Idrætsforeningen Kæmperne                                  None  \n",
       "608  Idrætsforeningen Kæmperne                                  None  \n",
       "609  Idrætsforeningen Kæmperne                               Remisen  "
      ]
     },
     "execution_count": 86,
     "metadata": {},
     "output_type": "execute_result"
    }
   ],
   "source": [
    "df = pd.DataFrame.from_dict(data)\n",
    "print(df.head())\n"
   ]
  },
  {
   "cell_type": "code",
   "execution_count": 85,
   "metadata": {},
   "outputs": [],
   "source": [
    "cwd = os.getcwd()\n",
    "path = cwd + \"/kbh_exercise.csv\"\n",
    "df.to_csv(path, encoding='utf-16')"
   ]
  },
  {
   "cell_type": "code",
   "execution_count": null,
   "metadata": {},
   "outputs": [],
   "source": []
  }
 ],
 "metadata": {
  "kernelspec": {
   "display_name": "wild",
   "language": "python",
   "name": "python3"
  },
  "language_info": {
   "codemirror_mode": {
    "name": "ipython",
    "version": 3
   },
   "file_extension": ".py",
   "mimetype": "text/x-python",
   "name": "python",
   "nbconvert_exporter": "python",
   "pygments_lexer": "ipython3",
   "version": "3.11.4"
  },
  "orig_nbformat": 4
 },
 "nbformat": 4,
 "nbformat_minor": 2
}
