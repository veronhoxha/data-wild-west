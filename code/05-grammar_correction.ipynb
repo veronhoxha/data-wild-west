{
 "cells": [
  {
   "cell_type": "code",
   "execution_count": 1,
   "metadata": {},
   "outputs": [
    {
     "name": "stderr",
     "output_type": "stream",
     "text": [
      "/var/folders/bz/l0bd4nmx6qg59xrx76lhbzd00000gn/T/ipykernel_44473/3741149587.py:1: DeprecationWarning: pkg_resources is deprecated as an API. See https://setuptools.pypa.io/en/latest/pkg_resources.html\n",
      "  import pkg_resources\n"
     ]
    }
   ],
   "source": [
    "import pkg_resources\n",
    "from symspellpy.symspellpy import SymSpell, Verbosity\n",
    "import pandas as pd\n",
    "import numpy"
   ]
  },
  {
   "cell_type": "code",
   "execution_count": 2,
   "metadata": {},
   "outputs": [],
   "source": [
    "df = pd.read_csv('../data/google_reviews.csv')\n",
    "text_rev = df['text'].tolist()\n",
    "\n",
    "corrected_text = []"
   ]
  },
  {
   "cell_type": "code",
   "execution_count": 4,
   "metadata": {},
   "outputs": [
    {
     "name": "stdout",
     "output_type": "stream",
     "text": [
      "['this is a example of incorrect spellings a']\n"
     ]
    }
   ],
   "source": [
    "\n",
    "\n",
    "sym_spell = SymSpell(max_dictionary_edit_distance=2, prefix_length=7)\n",
    "dictionary_path = pkg_resources.resource_filename(\"symspellpy\", \"frequency_dictionary_en_82_765.txt\")\n",
    "sym_spell.load_dictionary(dictionary_path, term_index=0, count_index=1)\n",
    "\n",
    "def grammar_corrector(text):\n",
    "    \"\"\"\n",
    "    Corrects spelling and grammar in the given text.\n",
    "\n",
    "    Args:\n",
    "        text (str or list): The input text to be corrected. It can be a single string or a list of strings.\n",
    "\n",
    "    Returns:\n",
    "        str or list: The corrected text, with spelling and grammar issues fixed.\n",
    "    \"\"\"\n",
    "    cleaned_text = []\n",
    "\n",
    "    if isinstance(text, str):\n",
    "        text = [text]  # Convert a single string to a list of strings for consistency.\n",
    "\n",
    "    for line in text:\n",
    "        temp_line = []\n",
    "        words = line.split()\n",
    "        for i, word in enumerate(words):\n",
    "            corrected_word = sym_spell.lookup(word.lower(), Verbosity.CLOSEST, max_edit_distance=2)\n",
    "            corrected_word = corrected_word[0].term if corrected_word else \"UNK\"\n",
    "            \n",
    "            # Append the punctuation back to the corrected word if the original word had it\n",
    "            if word[-1] in ['!', '?', '.']:\n",
    "                corrected_word += word[-1]\n",
    "\n",
    "            temp_line.append(corrected_word)\n",
    "\n",
    "            # Add space between words, except for the last word\n",
    "            if i < len(words) - 1:\n",
    "                temp_line.append(' ')\n",
    "\n",
    "        cleaned_text.append(''.join(temp_line))\n",
    "\n",
    "    if isinstance(text, str):\n",
    "        return cleaned_text[0]  # Return the corrected string.\n",
    "    else:\n",
    "        return cleaned_text\n",
    "\n",
    "# Example usage:\n",
    "input_text = \"Thisss iss a exmple of incorretc spelings  😊\"\n",
    "corrected_text = grammar_corrector(input_text)\n",
    "print(corrected_text)\n"
   ]
  },
  {
   "cell_type": "code",
   "execution_count": 5,
   "metadata": {},
   "outputs": [
    {
     "name": "stdout",
     "output_type": "stream",
     "text": [
      "Can't complain. They do their job very well and are nice to help. I love the classes and there is many to choose from. I look forward to Denmark opening up properly again so we don't need masks in the gym though 😉\n",
      "Update! No masks! So nice! I've missed it!🥰\n",
      "[\"can't complaint. they do their job very well and are nice to help. i love the classes and there is many to choose from. i look forward to denmark opening up properly again so we don't need masks in the gym though a updated! no masks! so nice! i've missed it\"]\n"
     ]
    }
   ],
   "source": [
    "for i in text_rev:\n",
    "    input = i\n",
    "    correct = grammar_corrector(input)\n",
    "    print(input)\n",
    "    print(correct)\n",
    "    break"
   ]
  },
  {
   "cell_type": "code",
   "execution_count": null,
   "metadata": {},
   "outputs": [],
   "source": []
  }
 ],
 "metadata": {
  "kernelspec": {
   "display_name": "data_viz",
   "language": "python",
   "name": "python3"
  },
  "language_info": {
   "codemirror_mode": {
    "name": "ipython",
    "version": 3
   },
   "file_extension": ".py",
   "mimetype": "text/x-python",
   "name": "python",
   "nbconvert_exporter": "python",
   "pygments_lexer": "ipython3",
   "version": "3.11.5"
  }
 },
 "nbformat": 4,
 "nbformat_minor": 2
}
