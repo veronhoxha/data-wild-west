{
 "cells": [
  {
   "cell_type": "markdown",
   "metadata": {},
   "source": [
    "# Notebook that does grammar correction."
   ]
  },
  {
   "cell_type": "code",
   "execution_count": 7,
   "metadata": {},
   "outputs": [],
   "source": [
    "### Imports\n",
    "import imports as i"
   ]
  },
  {
   "cell_type": "code",
   "execution_count": 2,
   "metadata": {},
   "outputs": [],
   "source": [
    "df = i.pd.read_csv('../data/google_reviews.csv')\n",
    "text_rev = df['text'].tolist()\n",
    "\n",
    "corrected_text = []"
   ]
  },
  {
   "cell_type": "code",
   "execution_count": 3,
   "metadata": {},
   "outputs": [
    {
     "ename": "NameError",
     "evalue": "name 'i' is not defined",
     "output_type": "error",
     "traceback": [
      "\u001b[0;31m---------------------------------------------------------------------------\u001b[0m",
      "\u001b[0;31mNameError\u001b[0m                                 Traceback (most recent call last)",
      "\u001b[1;32m/Users/konst/Documents/GitHub/data-wild-west/code/05-Grammar_Correction.ipynb Cell 4\u001b[0m line \u001b[0;36m3\n\u001b[1;32m      <a href='vscode-notebook-cell:/Users/konst/Documents/GitHub/data-wild-west/code/05-Grammar_Correction.ipynb#W3sZmlsZQ%3D%3D?line=0'>1</a>\u001b[0m \u001b[39m### function that does grammar correction\u001b[39;00m\n\u001b[0;32m----> <a href='vscode-notebook-cell:/Users/konst/Documents/GitHub/data-wild-west/code/05-Grammar_Correction.ipynb#W3sZmlsZQ%3D%3D?line=2'>3</a>\u001b[0m sym_spell \u001b[39m=\u001b[39m i\u001b[39m.\u001b[39mSymSpell(max_dictionary_edit_distance\u001b[39m=\u001b[39m\u001b[39m2\u001b[39m, prefix_length\u001b[39m=\u001b[39m\u001b[39m7\u001b[39m)\n\u001b[1;32m      <a href='vscode-notebook-cell:/Users/konst/Documents/GitHub/data-wild-west/code/05-Grammar_Correction.ipynb#W3sZmlsZQ%3D%3D?line=3'>4</a>\u001b[0m dictionary_path \u001b[39m=\u001b[39m i\u001b[39m.\u001b[39mpkg_resources\u001b[39m.\u001b[39mresource_filename(\u001b[39m\"\u001b[39m\u001b[39msymspellpy\u001b[39m\u001b[39m\"\u001b[39m, \u001b[39m\"\u001b[39m\u001b[39mfrequency_dictionary_en_82_765.txt\u001b[39m\u001b[39m\"\u001b[39m)\n\u001b[1;32m      <a href='vscode-notebook-cell:/Users/konst/Documents/GitHub/data-wild-west/code/05-Grammar_Correction.ipynb#W3sZmlsZQ%3D%3D?line=4'>5</a>\u001b[0m sym_spell\u001b[39m.\u001b[39mload_dictionary(dictionary_path, term_index\u001b[39m=\u001b[39m\u001b[39m0\u001b[39m, count_index\u001b[39m=\u001b[39m\u001b[39m1\u001b[39m)\n",
      "\u001b[0;31mNameError\u001b[0m: name 'i' is not defined"
     ]
    }
   ],
   "source": [
    "### function that does grammar correction\n",
    "\n",
    "sym_spell = i.SymSpell(max_dictionary_edit_distance=2, prefix_length=7)\n",
    "dictionary_path = i.pkg_resources.resource_filename(\"symspellpy\", \"frequency_dictionary_en_82_765.txt\")\n",
    "sym_spell.load_dictionary(dictionary_path, term_index=0, count_index=1)\n",
    "\n",
    "def grammar_corrector(text:str) -> str:\n",
    "    \"\"\"\n",
    "    Corrects spelling and grammar in the given text.\n",
    "\n",
    "    Args:\n",
    "        text (str or list): The input text to be corrected. It can be a single string or a list of strings.\n",
    "\n",
    "    Returns:\n",
    "        str or list: The corrected text, with spelling and grammar issues fixed.\n",
    "    \"\"\"\n",
    "    cleaned_text = []\n",
    "\n",
    "    if isinstance(text, str):\n",
    "        text = [text]  # Convert a single string to a list of strings for consistency.\n",
    "\n",
    "    for line in text:\n",
    "        temp_line = []\n",
    "        words = line.split()\n",
    "        for _, word in enumerate(words):\n",
    "            # Check if the word contains a numeric character\n",
    "            has_numeric = any(char.isdigit() for char in word)\n",
    "            \n",
    "            if has_numeric:\n",
    "                # If the word contains a numeric character, keep the original word\n",
    "                corrected_word = word\n",
    "            else:\n",
    "                # If the word does not contain a numeric character, perform correction\n",
    "                corrected_word = sym_spell.lookup(word.lower(), i.Verbosity.CLOSEST, max_edit_distance=2)\n",
    "                corrected_word = corrected_word[0].term if corrected_word else corrected_word\n",
    "\n",
    "            # Append the punctuation back to the corrected word if the original word had it\n",
    "            if word[-1] in ['!', '?', '.']:\n",
    "                corrected_word += word[-1]\n",
    "\n",
    "            temp_line.append(corrected_word)\n",
    "\n",
    "            # Add space between words, except for the last word\n",
    "            if _ < len(words) - 1:\n",
    "                temp_line.append(' ')\n",
    "\n",
    "        cleaned_text.append(''.join(map(str, temp_line)))\n",
    "       \n",
    "\n",
    "    if isinstance(text, str):\n",
    "        return cleaned_text[0]  # Return the corrected string.\n",
    "    else:\n",
    "        return cleaned_text\n"
   ]
  },
  {
   "cell_type": "code",
   "execution_count": 12,
   "metadata": {},
   "outputs": [
    {
     "ename": "TypeError",
     "evalue": "sequence item 40: expected str instance, list found",
     "output_type": "error",
     "traceback": [
      "\u001b[0;31m---------------------------------------------------------------------------\u001b[0m",
      "\u001b[0;31mTypeError\u001b[0m                                 Traceback (most recent call last)",
      "\u001b[1;32m/Users/konst/Documents/GitHub/data-wild-west/code/05-Grammar_Correction.ipynb Cell 5\u001b[0m line \u001b[0;36m2\n\u001b[1;32m      <a href='vscode-notebook-cell:/Users/konst/Documents/GitHub/data-wild-west/code/05-Grammar_Correction.ipynb#W4sZmlsZQ%3D%3D?line=0'>1</a>\u001b[0m \u001b[39mfor\u001b[39;00m _ \u001b[39min\u001b[39;00m text_rev:\n\u001b[0;32m----> <a href='vscode-notebook-cell:/Users/konst/Documents/GitHub/data-wild-west/code/05-Grammar_Correction.ipynb#W4sZmlsZQ%3D%3D?line=1'>2</a>\u001b[0m     corrected_text\u001b[39m.\u001b[39mappend(grammar_corrector(_))\n",
      "\u001b[1;32m/Users/konst/Documents/GitHub/data-wild-west/code/05-Grammar_Correction.ipynb Cell 5\u001b[0m line \u001b[0;36m4\n\u001b[1;32m     <a href='vscode-notebook-cell:/Users/konst/Documents/GitHub/data-wild-west/code/05-Grammar_Correction.ipynb#W4sZmlsZQ%3D%3D?line=45'>46</a>\u001b[0m     \u001b[39mif\u001b[39;00m temp_line \u001b[39mis\u001b[39;00m \u001b[39mlist\u001b[39m:\n\u001b[1;32m     <a href='vscode-notebook-cell:/Users/konst/Documents/GitHub/data-wild-west/code/05-Grammar_Correction.ipynb#W4sZmlsZQ%3D%3D?line=46'>47</a>\u001b[0m         temp_line \u001b[39m=\u001b[39m \u001b[39m'\u001b[39m\u001b[39m'\u001b[39m\u001b[39m.\u001b[39mjoin(temp_line)\n\u001b[0;32m---> <a href='vscode-notebook-cell:/Users/konst/Documents/GitHub/data-wild-west/code/05-Grammar_Correction.ipynb#W4sZmlsZQ%3D%3D?line=47'>48</a>\u001b[0m     cleaned_text\u001b[39m.\u001b[39mappend(\u001b[39m'\u001b[39;49m\u001b[39m'\u001b[39;49m\u001b[39m.\u001b[39;49mjoin(temp_line))\n\u001b[1;32m     <a href='vscode-notebook-cell:/Users/konst/Documents/GitHub/data-wild-west/code/05-Grammar_Correction.ipynb#W4sZmlsZQ%3D%3D?line=49'>50</a>\u001b[0m \u001b[39mif\u001b[39;00m \u001b[39misinstance\u001b[39m(text, \u001b[39mstr\u001b[39m):\n\u001b[1;32m     <a href='vscode-notebook-cell:/Users/konst/Documents/GitHub/data-wild-west/code/05-Grammar_Correction.ipynb#W4sZmlsZQ%3D%3D?line=50'>51</a>\u001b[0m     \u001b[39mreturn\u001b[39;00m cleaned_text[\u001b[39m0\u001b[39m]  \u001b[39m# Return the corrected string.\u001b[39;00m\n",
      "\u001b[0;31mTypeError\u001b[0m: sequence item 40: expected str instance, list found"
     ]
    }
   ],
   "source": [
    "for _ in text_rev:\n",
    "    corrected_text.append(grammar_corrector(_))"
   ]
  },
  {
   "cell_type": "code",
   "execution_count": null,
   "metadata": {},
   "outputs": [
    {
     "ename": "ValueError",
     "evalue": "Length of values (0) does not match length of index (405)",
     "output_type": "error",
     "traceback": [
      "\u001b[0;31m---------------------------------------------------------------------------\u001b[0m",
      "\u001b[0;31mValueError\u001b[0m                                Traceback (most recent call last)",
      "\u001b[1;32m/Users/konst/Documents/GitHub/data-wild-west/code/05-Grammar_Correction.ipynb Cell 6\u001b[0m line \u001b[0;36m1\n\u001b[0;32m----> <a href='vscode-notebook-cell:/Users/konst/Documents/GitHub/data-wild-west/code/05-Grammar_Correction.ipynb#W5sZmlsZQ%3D%3D?line=0'>1</a>\u001b[0m df[\u001b[39m'\u001b[39m\u001b[39mcorrected_review\u001b[39m\u001b[39m'\u001b[39m] \u001b[39m=\u001b[39m corrected_text\n",
      "File \u001b[0;32m~/opt/anaconda3/envs/CBC/lib/python3.8/site-packages/pandas/core/frame.py:3978\u001b[0m, in \u001b[0;36mDataFrame.__setitem__\u001b[0;34m(self, key, value)\u001b[0m\n\u001b[1;32m   3975\u001b[0m     \u001b[39mself\u001b[39m\u001b[39m.\u001b[39m_setitem_array([key], value)\n\u001b[1;32m   3976\u001b[0m \u001b[39melse\u001b[39;00m:\n\u001b[1;32m   3977\u001b[0m     \u001b[39m# set column\u001b[39;00m\n\u001b[0;32m-> 3978\u001b[0m     \u001b[39mself\u001b[39;49m\u001b[39m.\u001b[39;49m_set_item(key, value)\n",
      "File \u001b[0;32m~/opt/anaconda3/envs/CBC/lib/python3.8/site-packages/pandas/core/frame.py:4172\u001b[0m, in \u001b[0;36mDataFrame._set_item\u001b[0;34m(self, key, value)\u001b[0m\n\u001b[1;32m   4162\u001b[0m \u001b[39mdef\u001b[39;00m \u001b[39m_set_item\u001b[39m(\u001b[39mself\u001b[39m, key, value) \u001b[39m-\u001b[39m\u001b[39m>\u001b[39m \u001b[39mNone\u001b[39;00m:\n\u001b[1;32m   4163\u001b[0m     \u001b[39m\"\"\"\u001b[39;00m\n\u001b[1;32m   4164\u001b[0m \u001b[39m    Add series to DataFrame in specified column.\u001b[39;00m\n\u001b[1;32m   4165\u001b[0m \n\u001b[0;32m   (...)\u001b[0m\n\u001b[1;32m   4170\u001b[0m \u001b[39m    ensure homogeneity.\u001b[39;00m\n\u001b[1;32m   4171\u001b[0m \u001b[39m    \"\"\"\u001b[39;00m\n\u001b[0;32m-> 4172\u001b[0m     value \u001b[39m=\u001b[39m \u001b[39mself\u001b[39;49m\u001b[39m.\u001b[39;49m_sanitize_column(value)\n\u001b[1;32m   4174\u001b[0m     \u001b[39mif\u001b[39;00m (\n\u001b[1;32m   4175\u001b[0m         key \u001b[39min\u001b[39;00m \u001b[39mself\u001b[39m\u001b[39m.\u001b[39mcolumns\n\u001b[1;32m   4176\u001b[0m         \u001b[39mand\u001b[39;00m value\u001b[39m.\u001b[39mndim \u001b[39m==\u001b[39m \u001b[39m1\u001b[39m\n\u001b[1;32m   4177\u001b[0m         \u001b[39mand\u001b[39;00m \u001b[39mnot\u001b[39;00m is_extension_array_dtype(value)\n\u001b[1;32m   4178\u001b[0m     ):\n\u001b[1;32m   4179\u001b[0m         \u001b[39m# broadcast across multiple columns if necessary\u001b[39;00m\n\u001b[1;32m   4180\u001b[0m         \u001b[39mif\u001b[39;00m \u001b[39mnot\u001b[39;00m \u001b[39mself\u001b[39m\u001b[39m.\u001b[39mcolumns\u001b[39m.\u001b[39mis_unique \u001b[39mor\u001b[39;00m \u001b[39misinstance\u001b[39m(\u001b[39mself\u001b[39m\u001b[39m.\u001b[39mcolumns, MultiIndex):\n",
      "File \u001b[0;32m~/opt/anaconda3/envs/CBC/lib/python3.8/site-packages/pandas/core/frame.py:4912\u001b[0m, in \u001b[0;36mDataFrame._sanitize_column\u001b[0;34m(self, value)\u001b[0m\n\u001b[1;32m   4909\u001b[0m     \u001b[39mreturn\u001b[39;00m _reindex_for_setitem(Series(value), \u001b[39mself\u001b[39m\u001b[39m.\u001b[39mindex)\n\u001b[1;32m   4911\u001b[0m \u001b[39mif\u001b[39;00m is_list_like(value):\n\u001b[0;32m-> 4912\u001b[0m     com\u001b[39m.\u001b[39;49mrequire_length_match(value, \u001b[39mself\u001b[39;49m\u001b[39m.\u001b[39;49mindex)\n\u001b[1;32m   4913\u001b[0m \u001b[39mreturn\u001b[39;00m sanitize_array(value, \u001b[39mself\u001b[39m\u001b[39m.\u001b[39mindex, copy\u001b[39m=\u001b[39m\u001b[39mTrue\u001b[39;00m, allow_2d\u001b[39m=\u001b[39m\u001b[39mTrue\u001b[39;00m)\n",
      "File \u001b[0;32m~/opt/anaconda3/envs/CBC/lib/python3.8/site-packages/pandas/core/common.py:561\u001b[0m, in \u001b[0;36mrequire_length_match\u001b[0;34m(data, index)\u001b[0m\n\u001b[1;32m    557\u001b[0m \u001b[39m\"\"\"\u001b[39;00m\n\u001b[1;32m    558\u001b[0m \u001b[39mCheck the length of data matches the length of the index.\u001b[39;00m\n\u001b[1;32m    559\u001b[0m \u001b[39m\"\"\"\u001b[39;00m\n\u001b[1;32m    560\u001b[0m \u001b[39mif\u001b[39;00m \u001b[39mlen\u001b[39m(data) \u001b[39m!=\u001b[39m \u001b[39mlen\u001b[39m(index):\n\u001b[0;32m--> 561\u001b[0m     \u001b[39mraise\u001b[39;00m \u001b[39mValueError\u001b[39;00m(\n\u001b[1;32m    562\u001b[0m         \u001b[39m\"\u001b[39m\u001b[39mLength of values \u001b[39m\u001b[39m\"\u001b[39m\n\u001b[1;32m    563\u001b[0m         \u001b[39mf\u001b[39m\u001b[39m\"\u001b[39m\u001b[39m(\u001b[39m\u001b[39m{\u001b[39;00m\u001b[39mlen\u001b[39m(data)\u001b[39m}\u001b[39;00m\u001b[39m) \u001b[39m\u001b[39m\"\u001b[39m\n\u001b[1;32m    564\u001b[0m         \u001b[39m\"\u001b[39m\u001b[39mdoes not match length of index \u001b[39m\u001b[39m\"\u001b[39m\n\u001b[1;32m    565\u001b[0m         \u001b[39mf\u001b[39m\u001b[39m\"\u001b[39m\u001b[39m(\u001b[39m\u001b[39m{\u001b[39;00m\u001b[39mlen\u001b[39m(index)\u001b[39m}\u001b[39;00m\u001b[39m)\u001b[39m\u001b[39m\"\u001b[39m\n\u001b[1;32m    566\u001b[0m     )\n",
      "\u001b[0;31mValueError\u001b[0m: Length of values (0) does not match length of index (405)"
     ]
    }
   ],
   "source": [
    "df['corrected_review'] = corrected_text"
   ]
  },
  {
   "cell_type": "code",
   "execution_count": null,
   "metadata": {},
   "outputs": [
    {
     "name": "stdout",
     "output_type": "stream",
     "text": [
      "Big gym spanning 3 floors. Good selection of benches and power racks. All equipment is of the lowest quality possible (Technogym) and has clearly been compromised to maximize profits. This lack of care for traning quality also becomes strenghtend by obscure rules, such as backpacks/gymbags or similar being forbidden in the gym. Receptionist staff are all super friendly and helpful, and the ALL-IN and heatwave yoga are excellent offers. This gym is very good at everthing not related to actual training. Would recommend if your looking for a cheap place to just do cardio and some strength training. ['big gym spanning 3 floors. good selection of benches and power racks. all equipment is of the lowest quality possible UNK and has clearly been compromised to maximize profits. this lack of care for training quality also becomes strengthen by obscure rules such as UNK or similar being forbidden in the gym. receptionist staff are all super friendly and helpful and the allen and heatwave yoga are excellent offers. this gym is very good at everything not related to actual training. would recommend if your looking for a cheap place to just do cardio and some strength training.']\n"
     ]
    }
   ],
   "source": [
    "for _, row in df.iterrows():\n",
    "    if _ == 1:\n",
    "        print(row['text'], row['corrected_review'])\n",
    "        break"
   ]
  },
  {
   "cell_type": "code",
   "execution_count": null,
   "metadata": {},
   "outputs": [
    {
     "data": {
      "text/html": [
       "<div>\n",
       "<style scoped>\n",
       "    .dataframe tbody tr th:only-of-type {\n",
       "        vertical-align: middle;\n",
       "    }\n",
       "\n",
       "    .dataframe tbody tr th {\n",
       "        vertical-align: top;\n",
       "    }\n",
       "\n",
       "    .dataframe thead th {\n",
       "        text-align: right;\n",
       "    }\n",
       "</style>\n",
       "<table border=\"1\" class=\"dataframe\">\n",
       "  <thead>\n",
       "    <tr style=\"text-align: right;\">\n",
       "      <th></th>\n",
       "      <th>place_id</th>\n",
       "      <th>type</th>\n",
       "      <th>name</th>\n",
       "      <th>lat</th>\n",
       "      <th>lng</th>\n",
       "      <th>author_name</th>\n",
       "      <th>rating</th>\n",
       "      <th>text</th>\n",
       "      <th>opening_hours</th>\n",
       "      <th>Monday</th>\n",
       "      <th>Tuesday</th>\n",
       "      <th>Wednesday</th>\n",
       "      <th>Thursday</th>\n",
       "      <th>Friday</th>\n",
       "      <th>Saturday</th>\n",
       "      <th>Sunday</th>\n",
       "    </tr>\n",
       "  </thead>\n",
       "  <tbody>\n",
       "    <tr>\n",
       "      <th>0</th>\n",
       "      <td>ChIJnebu2e7fTEYRl2jmqFgqVZo</td>\n",
       "      <td>PureGym Odense</td>\n",
       "      <td>PureGym</td>\n",
       "      <td>55.394857</td>\n",
       "      <td>10.366625</td>\n",
       "      <td>Lea Hansen</td>\n",
       "      <td>5</td>\n",
       "      <td>Can't complain. They do their job very well an...</td>\n",
       "      <td>{'Monday': '05:00AM - 12:00AM', 'Tuesday': '05...</td>\n",
       "      <td>05:00AM - 12:00AM</td>\n",
       "      <td>05:00AM - 12:00AM</td>\n",
       "      <td>05:00AM - 12:00AM</td>\n",
       "      <td>05:00AM - 12:00AM</td>\n",
       "      <td>05:00AM - 11:59PM</td>\n",
       "      <td>05:00AM - 12:00AM</td>\n",
       "      <td>05:00AM - 12:00AM</td>\n",
       "    </tr>\n",
       "    <tr>\n",
       "      <th>1</th>\n",
       "      <td>ChIJnebu2e7fTEYRl2jmqFgqVZo</td>\n",
       "      <td>PureGym Odense</td>\n",
       "      <td>PureGym</td>\n",
       "      <td>55.394857</td>\n",
       "      <td>10.366625</td>\n",
       "      <td>Marcus Nygård</td>\n",
       "      <td>2</td>\n",
       "      <td>Big gym spanning 3 floors. Good selection of b...</td>\n",
       "      <td>{'Monday': '05:00AM - 12:00AM', 'Tuesday': '05...</td>\n",
       "      <td>05:00AM - 12:00AM</td>\n",
       "      <td>05:00AM - 12:00AM</td>\n",
       "      <td>05:00AM - 12:00AM</td>\n",
       "      <td>05:00AM - 12:00AM</td>\n",
       "      <td>05:00AM - 11:59PM</td>\n",
       "      <td>05:00AM - 12:00AM</td>\n",
       "      <td>05:00AM - 12:00AM</td>\n",
       "    </tr>\n",
       "    <tr>\n",
       "      <th>2</th>\n",
       "      <td>ChIJnebu2e7fTEYRl2jmqFgqVZo</td>\n",
       "      <td>PureGym Odense</td>\n",
       "      <td>PureGym</td>\n",
       "      <td>55.394857</td>\n",
       "      <td>10.366625</td>\n",
       "      <td>Maj Vangsø Simonsen</td>\n",
       "      <td>5</td>\n",
       "      <td>Love this gym! Best instructors and facilities...</td>\n",
       "      <td>{'Monday': '05:00AM - 12:00AM', 'Tuesday': '05...</td>\n",
       "      <td>05:00AM - 12:00AM</td>\n",
       "      <td>05:00AM - 12:00AM</td>\n",
       "      <td>05:00AM - 12:00AM</td>\n",
       "      <td>05:00AM - 12:00AM</td>\n",
       "      <td>05:00AM - 11:59PM</td>\n",
       "      <td>05:00AM - 12:00AM</td>\n",
       "      <td>05:00AM - 12:00AM</td>\n",
       "    </tr>\n",
       "    <tr>\n",
       "      <th>3</th>\n",
       "      <td>ChIJnebu2e7fTEYRl2jmqFgqVZo</td>\n",
       "      <td>PureGym Odense</td>\n",
       "      <td>PureGym</td>\n",
       "      <td>55.394857</td>\n",
       "      <td>10.366625</td>\n",
       "      <td>Henrik Lambert</td>\n",
       "      <td>4</td>\n",
       "      <td>Fine place but watch your parking meter.</td>\n",
       "      <td>{'Monday': '05:00AM - 12:00AM', 'Tuesday': '05...</td>\n",
       "      <td>05:00AM - 12:00AM</td>\n",
       "      <td>05:00AM - 12:00AM</td>\n",
       "      <td>05:00AM - 12:00AM</td>\n",
       "      <td>05:00AM - 12:00AM</td>\n",
       "      <td>05:00AM - 11:59PM</td>\n",
       "      <td>05:00AM - 12:00AM</td>\n",
       "      <td>05:00AM - 12:00AM</td>\n",
       "    </tr>\n",
       "    <tr>\n",
       "      <th>4</th>\n",
       "      <td>ChIJnebu2e7fTEYRl2jmqFgqVZo</td>\n",
       "      <td>PureGym Odense</td>\n",
       "      <td>PureGym</td>\n",
       "      <td>55.394857</td>\n",
       "      <td>10.366625</td>\n",
       "      <td>Fresh Andrew</td>\n",
       "      <td>5</td>\n",
       "      <td>Lots of space and it's nice and clean</td>\n",
       "      <td>{'Monday': '05:00AM - 12:00AM', 'Tuesday': '05...</td>\n",
       "      <td>05:00AM - 12:00AM</td>\n",
       "      <td>05:00AM - 12:00AM</td>\n",
       "      <td>05:00AM - 12:00AM</td>\n",
       "      <td>05:00AM - 12:00AM</td>\n",
       "      <td>05:00AM - 11:59PM</td>\n",
       "      <td>05:00AM - 12:00AM</td>\n",
       "      <td>05:00AM - 12:00AM</td>\n",
       "    </tr>\n",
       "  </tbody>\n",
       "</table>\n",
       "</div>"
      ],
      "text/plain": [
       "                      place_id            type     name        lat        lng  \\\n",
       "0  ChIJnebu2e7fTEYRl2jmqFgqVZo  PureGym Odense  PureGym  55.394857  10.366625   \n",
       "1  ChIJnebu2e7fTEYRl2jmqFgqVZo  PureGym Odense  PureGym  55.394857  10.366625   \n",
       "2  ChIJnebu2e7fTEYRl2jmqFgqVZo  PureGym Odense  PureGym  55.394857  10.366625   \n",
       "3  ChIJnebu2e7fTEYRl2jmqFgqVZo  PureGym Odense  PureGym  55.394857  10.366625   \n",
       "4  ChIJnebu2e7fTEYRl2jmqFgqVZo  PureGym Odense  PureGym  55.394857  10.366625   \n",
       "\n",
       "           author_name  rating  \\\n",
       "0           Lea Hansen       5   \n",
       "1        Marcus Nygård       2   \n",
       "2  Maj Vangsø Simonsen       5   \n",
       "3       Henrik Lambert       4   \n",
       "4         Fresh Andrew       5   \n",
       "\n",
       "                                                text  \\\n",
       "0  Can't complain. They do their job very well an...   \n",
       "1  Big gym spanning 3 floors. Good selection of b...   \n",
       "2  Love this gym! Best instructors and facilities...   \n",
       "3           Fine place but watch your parking meter.   \n",
       "4              Lots of space and it's nice and clean   \n",
       "\n",
       "                                       opening_hours             Monday  \\\n",
       "0  {'Monday': '05:00AM - 12:00AM', 'Tuesday': '05...  05:00AM - 12:00AM   \n",
       "1  {'Monday': '05:00AM - 12:00AM', 'Tuesday': '05...  05:00AM - 12:00AM   \n",
       "2  {'Monday': '05:00AM - 12:00AM', 'Tuesday': '05...  05:00AM - 12:00AM   \n",
       "3  {'Monday': '05:00AM - 12:00AM', 'Tuesday': '05...  05:00AM - 12:00AM   \n",
       "4  {'Monday': '05:00AM - 12:00AM', 'Tuesday': '05...  05:00AM - 12:00AM   \n",
       "\n",
       "             Tuesday          Wednesday           Thursday             Friday  \\\n",
       "0  05:00AM - 12:00AM  05:00AM - 12:00AM  05:00AM - 12:00AM  05:00AM - 11:59PM   \n",
       "1  05:00AM - 12:00AM  05:00AM - 12:00AM  05:00AM - 12:00AM  05:00AM - 11:59PM   \n",
       "2  05:00AM - 12:00AM  05:00AM - 12:00AM  05:00AM - 12:00AM  05:00AM - 11:59PM   \n",
       "3  05:00AM - 12:00AM  05:00AM - 12:00AM  05:00AM - 12:00AM  05:00AM - 11:59PM   \n",
       "4  05:00AM - 12:00AM  05:00AM - 12:00AM  05:00AM - 12:00AM  05:00AM - 11:59PM   \n",
       "\n",
       "            Saturday             Sunday  \n",
       "0  05:00AM - 12:00AM  05:00AM - 12:00AM  \n",
       "1  05:00AM - 12:00AM  05:00AM - 12:00AM  \n",
       "2  05:00AM - 12:00AM  05:00AM - 12:00AM  \n",
       "3  05:00AM - 12:00AM  05:00AM - 12:00AM  \n",
       "4  05:00AM - 12:00AM  05:00AM - 12:00AM  "
      ]
     },
     "execution_count": 5,
     "metadata": {},
     "output_type": "execute_result"
    }
   ],
   "source": [
    "df.head(5)"
   ]
  },
  {
   "cell_type": "code",
   "execution_count": null,
   "metadata": {},
   "outputs": [],
   "source": []
  }
 ],
 "metadata": {
  "kernelspec": {
   "display_name": "data_viz",
   "language": "python",
   "name": "python3"
  },
  "language_info": {
   "codemirror_mode": {
    "name": "ipython",
    "version": 3
   },
   "file_extension": ".py",
   "mimetype": "text/x-python",
   "name": "python",
   "nbconvert_exporter": "python",
   "pygments_lexer": "ipython3",
   "version": "3.8.15"
  }
 },
 "nbformat": 4,
 "nbformat_minor": 2
}
