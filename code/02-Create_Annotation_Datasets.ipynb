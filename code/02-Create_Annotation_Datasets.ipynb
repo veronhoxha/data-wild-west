{
 "cells": [
  {
   "cell_type": "markdown",
   "metadata": {},
   "source": [
    "# Create Annotation Datasets Notebook"
   ]
  },
  {
   "cell_type": "markdown",
   "metadata": {},
   "source": [
    "### The purpose of this notebook is to join all review datasets from different sources and generate samples datasets for annotation task."
   ]
  },
  {
   "cell_type": "markdown",
   "metadata": {},
   "source": [
    "Imports"
   ]
  },
  {
   "cell_type": "code",
   "execution_count": 27,
   "metadata": {},
   "outputs": [],
   "source": [
    "import pandas as pd\n",
    "import numpy as np"
   ]
  },
  {
   "cell_type": "markdown",
   "metadata": {},
   "source": [
    "Paths"
   ]
  },
  {
   "cell_type": "code",
   "execution_count": 28,
   "metadata": {},
   "outputs": [],
   "source": [
    "data_path = \"../data/\"\n",
    "\n",
    "google_reviews_filename = \"google_reviews.csv\"\n",
    "trustpilot_reviews_filename = \"trustpilot_reviews_translated.csv\""
   ]
  },
  {
   "cell_type": "markdown",
   "metadata": {},
   "source": [
    "Read review files"
   ]
  },
  {
   "cell_type": "code",
   "execution_count": 29,
   "metadata": {},
   "outputs": [
    {
     "name": "stdout",
     "output_type": "stream",
     "text": [
      "Google reviews has shape (405, 16) and Trustpilot reviews has shape (221, 8)\n"
     ]
    }
   ],
   "source": [
    "google_reviews = pd.read_csv(data_path + google_reviews_filename)\n",
    "trustpilot_reviews = pd.read_csv(data_path + trustpilot_reviews_filename, encoding=\"utf-16\")\n",
    "\n",
    "print(f\"Google reviews has shape {google_reviews.shape} and Trustpilot reviews has shape {trustpilot_reviews.shape}\")"
   ]
  },
  {
   "cell_type": "markdown",
   "metadata": {},
   "source": [
    "Inspect both datasets"
   ]
  },
  {
   "cell_type": "code",
   "execution_count": 30,
   "metadata": {},
   "outputs": [
    {
     "data": {
      "text/html": [
       "<div>\n",
       "<style scoped>\n",
       "    .dataframe tbody tr th:only-of-type {\n",
       "        vertical-align: middle;\n",
       "    }\n",
       "\n",
       "    .dataframe tbody tr th {\n",
       "        vertical-align: top;\n",
       "    }\n",
       "\n",
       "    .dataframe thead th {\n",
       "        text-align: right;\n",
       "    }\n",
       "</style>\n",
       "<table border=\"1\" class=\"dataframe\">\n",
       "  <thead>\n",
       "    <tr style=\"text-align: right;\">\n",
       "      <th></th>\n",
       "      <th>place_id</th>\n",
       "      <th>type</th>\n",
       "      <th>name</th>\n",
       "      <th>lat</th>\n",
       "      <th>lng</th>\n",
       "      <th>author_name</th>\n",
       "      <th>rating</th>\n",
       "      <th>text</th>\n",
       "      <th>opening_hours</th>\n",
       "      <th>Monday</th>\n",
       "      <th>Tuesday</th>\n",
       "      <th>Wednesday</th>\n",
       "      <th>Thursday</th>\n",
       "      <th>Friday</th>\n",
       "      <th>Saturday</th>\n",
       "      <th>Sunday</th>\n",
       "    </tr>\n",
       "  </thead>\n",
       "  <tbody>\n",
       "    <tr>\n",
       "      <th>0</th>\n",
       "      <td>ChIJnebu2e7fTEYRl2jmqFgqVZo</td>\n",
       "      <td>PureGym Odense</td>\n",
       "      <td>PureGym</td>\n",
       "      <td>55.394857</td>\n",
       "      <td>10.366625</td>\n",
       "      <td>Lea Hansen</td>\n",
       "      <td>5</td>\n",
       "      <td>Can't complain. They do their job very well an...</td>\n",
       "      <td>{'Monday': '05:00AM - 12:00AM', 'Tuesday': '05...</td>\n",
       "      <td>05:00AM - 12:00AM</td>\n",
       "      <td>05:00AM - 12:00AM</td>\n",
       "      <td>05:00AM - 12:00AM</td>\n",
       "      <td>05:00AM - 12:00AM</td>\n",
       "      <td>05:00AM - 11:59PM</td>\n",
       "      <td>05:00AM - 12:00AM</td>\n",
       "      <td>05:00AM - 12:00AM</td>\n",
       "    </tr>\n",
       "    <tr>\n",
       "      <th>1</th>\n",
       "      <td>ChIJnebu2e7fTEYRl2jmqFgqVZo</td>\n",
       "      <td>PureGym Odense</td>\n",
       "      <td>PureGym</td>\n",
       "      <td>55.394857</td>\n",
       "      <td>10.366625</td>\n",
       "      <td>Marcus Nygård</td>\n",
       "      <td>2</td>\n",
       "      <td>Big gym spanning 3 floors. Good selection of b...</td>\n",
       "      <td>{'Monday': '05:00AM - 12:00AM', 'Tuesday': '05...</td>\n",
       "      <td>05:00AM - 12:00AM</td>\n",
       "      <td>05:00AM - 12:00AM</td>\n",
       "      <td>05:00AM - 12:00AM</td>\n",
       "      <td>05:00AM - 12:00AM</td>\n",
       "      <td>05:00AM - 11:59PM</td>\n",
       "      <td>05:00AM - 12:00AM</td>\n",
       "      <td>05:00AM - 12:00AM</td>\n",
       "    </tr>\n",
       "    <tr>\n",
       "      <th>2</th>\n",
       "      <td>ChIJnebu2e7fTEYRl2jmqFgqVZo</td>\n",
       "      <td>PureGym Odense</td>\n",
       "      <td>PureGym</td>\n",
       "      <td>55.394857</td>\n",
       "      <td>10.366625</td>\n",
       "      <td>Maj Vangsø Simonsen</td>\n",
       "      <td>5</td>\n",
       "      <td>Love this gym! Best instructors and facilities...</td>\n",
       "      <td>{'Monday': '05:00AM - 12:00AM', 'Tuesday': '05...</td>\n",
       "      <td>05:00AM - 12:00AM</td>\n",
       "      <td>05:00AM - 12:00AM</td>\n",
       "      <td>05:00AM - 12:00AM</td>\n",
       "      <td>05:00AM - 12:00AM</td>\n",
       "      <td>05:00AM - 11:59PM</td>\n",
       "      <td>05:00AM - 12:00AM</td>\n",
       "      <td>05:00AM - 12:00AM</td>\n",
       "    </tr>\n",
       "    <tr>\n",
       "      <th>3</th>\n",
       "      <td>ChIJnebu2e7fTEYRl2jmqFgqVZo</td>\n",
       "      <td>PureGym Odense</td>\n",
       "      <td>PureGym</td>\n",
       "      <td>55.394857</td>\n",
       "      <td>10.366625</td>\n",
       "      <td>Henrik Lambert</td>\n",
       "      <td>4</td>\n",
       "      <td>Fine place but watch your parking meter.</td>\n",
       "      <td>{'Monday': '05:00AM - 12:00AM', 'Tuesday': '05...</td>\n",
       "      <td>05:00AM - 12:00AM</td>\n",
       "      <td>05:00AM - 12:00AM</td>\n",
       "      <td>05:00AM - 12:00AM</td>\n",
       "      <td>05:00AM - 12:00AM</td>\n",
       "      <td>05:00AM - 11:59PM</td>\n",
       "      <td>05:00AM - 12:00AM</td>\n",
       "      <td>05:00AM - 12:00AM</td>\n",
       "    </tr>\n",
       "    <tr>\n",
       "      <th>4</th>\n",
       "      <td>ChIJnebu2e7fTEYRl2jmqFgqVZo</td>\n",
       "      <td>PureGym Odense</td>\n",
       "      <td>PureGym</td>\n",
       "      <td>55.394857</td>\n",
       "      <td>10.366625</td>\n",
       "      <td>Fresh Andrew</td>\n",
       "      <td>5</td>\n",
       "      <td>Lots of space and it's nice and clean</td>\n",
       "      <td>{'Monday': '05:00AM - 12:00AM', 'Tuesday': '05...</td>\n",
       "      <td>05:00AM - 12:00AM</td>\n",
       "      <td>05:00AM - 12:00AM</td>\n",
       "      <td>05:00AM - 12:00AM</td>\n",
       "      <td>05:00AM - 12:00AM</td>\n",
       "      <td>05:00AM - 11:59PM</td>\n",
       "      <td>05:00AM - 12:00AM</td>\n",
       "      <td>05:00AM - 12:00AM</td>\n",
       "    </tr>\n",
       "  </tbody>\n",
       "</table>\n",
       "</div>"
      ],
      "text/plain": [
       "                      place_id            type     name        lat        lng  \\\n",
       "0  ChIJnebu2e7fTEYRl2jmqFgqVZo  PureGym Odense  PureGym  55.394857  10.366625   \n",
       "1  ChIJnebu2e7fTEYRl2jmqFgqVZo  PureGym Odense  PureGym  55.394857  10.366625   \n",
       "2  ChIJnebu2e7fTEYRl2jmqFgqVZo  PureGym Odense  PureGym  55.394857  10.366625   \n",
       "3  ChIJnebu2e7fTEYRl2jmqFgqVZo  PureGym Odense  PureGym  55.394857  10.366625   \n",
       "4  ChIJnebu2e7fTEYRl2jmqFgqVZo  PureGym Odense  PureGym  55.394857  10.366625   \n",
       "\n",
       "           author_name  rating  \\\n",
       "0           Lea Hansen       5   \n",
       "1        Marcus Nygård       2   \n",
       "2  Maj Vangsø Simonsen       5   \n",
       "3       Henrik Lambert       4   \n",
       "4         Fresh Andrew       5   \n",
       "\n",
       "                                                text  \\\n",
       "0  Can't complain. They do their job very well an...   \n",
       "1  Big gym spanning 3 floors. Good selection of b...   \n",
       "2  Love this gym! Best instructors and facilities...   \n",
       "3           Fine place but watch your parking meter.   \n",
       "4              Lots of space and it's nice and clean   \n",
       "\n",
       "                                       opening_hours             Monday  \\\n",
       "0  {'Monday': '05:00AM - 12:00AM', 'Tuesday': '05...  05:00AM - 12:00AM   \n",
       "1  {'Monday': '05:00AM - 12:00AM', 'Tuesday': '05...  05:00AM - 12:00AM   \n",
       "2  {'Monday': '05:00AM - 12:00AM', 'Tuesday': '05...  05:00AM - 12:00AM   \n",
       "3  {'Monday': '05:00AM - 12:00AM', 'Tuesday': '05...  05:00AM - 12:00AM   \n",
       "4  {'Monday': '05:00AM - 12:00AM', 'Tuesday': '05...  05:00AM - 12:00AM   \n",
       "\n",
       "             Tuesday          Wednesday           Thursday             Friday  \\\n",
       "0  05:00AM - 12:00AM  05:00AM - 12:00AM  05:00AM - 12:00AM  05:00AM - 11:59PM   \n",
       "1  05:00AM - 12:00AM  05:00AM - 12:00AM  05:00AM - 12:00AM  05:00AM - 11:59PM   \n",
       "2  05:00AM - 12:00AM  05:00AM - 12:00AM  05:00AM - 12:00AM  05:00AM - 11:59PM   \n",
       "3  05:00AM - 12:00AM  05:00AM - 12:00AM  05:00AM - 12:00AM  05:00AM - 11:59PM   \n",
       "4  05:00AM - 12:00AM  05:00AM - 12:00AM  05:00AM - 12:00AM  05:00AM - 11:59PM   \n",
       "\n",
       "            Saturday             Sunday  \n",
       "0  05:00AM - 12:00AM  05:00AM - 12:00AM  \n",
       "1  05:00AM - 12:00AM  05:00AM - 12:00AM  \n",
       "2  05:00AM - 12:00AM  05:00AM - 12:00AM  \n",
       "3  05:00AM - 12:00AM  05:00AM - 12:00AM  \n",
       "4  05:00AM - 12:00AM  05:00AM - 12:00AM  "
      ]
     },
     "metadata": {},
     "output_type": "display_data"
    },
    {
     "data": {
      "text/html": [
       "<div>\n",
       "<style scoped>\n",
       "    .dataframe tbody tr th:only-of-type {\n",
       "        vertical-align: middle;\n",
       "    }\n",
       "\n",
       "    .dataframe tbody tr th {\n",
       "        vertical-align: top;\n",
       "    }\n",
       "\n",
       "    .dataframe thead th {\n",
       "        text-align: right;\n",
       "    }\n",
       "</style>\n",
       "<table border=\"1\" class=\"dataframe\">\n",
       "  <thead>\n",
       "    <tr style=\"text-align: right;\">\n",
       "      <th></th>\n",
       "      <th>datetime</th>\n",
       "      <th>name</th>\n",
       "      <th>rating</th>\n",
       "      <th>title</th>\n",
       "      <th>review</th>\n",
       "      <th>event_time</th>\n",
       "      <th>enterprise</th>\n",
       "      <th>translated_reviews</th>\n",
       "    </tr>\n",
       "  </thead>\n",
       "  <tbody>\n",
       "    <tr>\n",
       "      <th>0</th>\n",
       "      <td>2023-11-02T13:26:25.000Z</td>\n",
       "      <td>Sally Devantier</td>\n",
       "      <td>3</td>\n",
       "      <td>Priserne stiger</td>\n",
       "      <td>Priserne stiger, mens centrene forfalder mere ...</td>\n",
       "      <td>02. november 2023</td>\n",
       "      <td>PureGym</td>\n",
       "      <td>Prices are rising while the centres are fallin...</td>\n",
       "    </tr>\n",
       "    <tr>\n",
       "      <th>1</th>\n",
       "      <td>2023-10-28T12:03:29.000Z</td>\n",
       "      <td>judith</td>\n",
       "      <td>4</td>\n",
       "      <td>Dejlig imødekommende personale</td>\n",
       "      <td>Dejlig imødekommende personale, som altid form...</td>\n",
       "      <td>27. oktober 2023</td>\n",
       "      <td>PureGym</td>\n",
       "      <td>Nice welcoming staff who always manage to keep...</td>\n",
       "    </tr>\n",
       "    <tr>\n",
       "      <th>2</th>\n",
       "      <td>2023-11-02T16:08:10.000Z</td>\n",
       "      <td>Mila gouzi</td>\n",
       "      <td>5</td>\n",
       "      <td>Søde rar unge mennesker der arbejder</td>\n",
       "      <td>Søde rar unge mennesker der arbejder, de har e...</td>\n",
       "      <td>02. november 2023</td>\n",
       "      <td>PureGym</td>\n",
       "      <td>Sweet nice young people working, they have a s...</td>\n",
       "    </tr>\n",
       "    <tr>\n",
       "      <th>3</th>\n",
       "      <td>2023-10-31T18:53:42.000Z</td>\n",
       "      <td>Franck  Tronborg</td>\n",
       "      <td>5</td>\n",
       "      <td>Har Trænet i mangen år her får mest ud af det ...</td>\n",
       "      <td>Har Trænet i mangen år her og Bornholmsvej, er...</td>\n",
       "      <td>31. oktober 2023</td>\n",
       "      <td>PureGym</td>\n",
       "      <td>Has trained for many years here and Bornholmsv...</td>\n",
       "    </tr>\n",
       "    <tr>\n",
       "      <th>4</th>\n",
       "      <td>2023-10-27T18:15:58.000Z</td>\n",
       "      <td>Esben Holst Christensen</td>\n",
       "      <td>4</td>\n",
       "      <td>Udmærket center. Value for money</td>\n",
       "      <td>Udmærket center med god sammenhæng mellem pris...</td>\n",
       "      <td>27. oktober 2023</td>\n",
       "      <td>PureGym</td>\n",
       "      <td>Excellent center with good connection between ...</td>\n",
       "    </tr>\n",
       "  </tbody>\n",
       "</table>\n",
       "</div>"
      ],
      "text/plain": [
       "                   datetime                     name  rating  \\\n",
       "0  2023-11-02T13:26:25.000Z          Sally Devantier       3   \n",
       "1  2023-10-28T12:03:29.000Z                   judith       4   \n",
       "2  2023-11-02T16:08:10.000Z               Mila gouzi       5   \n",
       "3  2023-10-31T18:53:42.000Z         Franck  Tronborg       5   \n",
       "4  2023-10-27T18:15:58.000Z  Esben Holst Christensen       4   \n",
       "\n",
       "                                               title  \\\n",
       "0                                    Priserne stiger   \n",
       "1                     Dejlig imødekommende personale   \n",
       "2               Søde rar unge mennesker der arbejder   \n",
       "3  Har Trænet i mangen år her får mest ud af det ...   \n",
       "4                   Udmærket center. Value for money   \n",
       "\n",
       "                                              review         event_time  \\\n",
       "0  Priserne stiger, mens centrene forfalder mere ...  02. november 2023   \n",
       "1  Dejlig imødekommende personale, som altid form...   27. oktober 2023   \n",
       "2  Søde rar unge mennesker der arbejder, de har e...  02. november 2023   \n",
       "3  Har Trænet i mangen år her og Bornholmsvej, er...   31. oktober 2023   \n",
       "4  Udmærket center med god sammenhæng mellem pris...   27. oktober 2023   \n",
       "\n",
       "  enterprise                                 translated_reviews  \n",
       "0    PureGym  Prices are rising while the centres are fallin...  \n",
       "1    PureGym  Nice welcoming staff who always manage to keep...  \n",
       "2    PureGym  Sweet nice young people working, they have a s...  \n",
       "3    PureGym  Has trained for many years here and Bornholmsv...  \n",
       "4    PureGym  Excellent center with good connection between ...  "
      ]
     },
     "metadata": {},
     "output_type": "display_data"
    }
   ],
   "source": [
    "display(google_reviews.head())\n",
    "display(trustpilot_reviews.head())"
   ]
  },
  {
   "cell_type": "markdown",
   "metadata": {},
   "source": [
    "Upon inspection, we see that the only attributes in common are the reviewer's name (author_name, name), rating, review text (text, review) and enterprise (name, enterprise)."
   ]
  },
  {
   "cell_type": "code",
   "execution_count": 31,
   "metadata": {},
   "outputs": [],
   "source": [
    "# Keep relevant columns\n",
    "google_reviews = google_reviews[[\"name\", \"author_name\", \"rating\", \"text\"]]\n",
    "trustpilot_reviews = trustpilot_reviews[[\"enterprise\", \"name\", \"rating\", \"translated_reviews\"]]\n",
    "\n",
    "# Rename columns to match in both datasets\n",
    "google_reviews.rename(columns={\"name\": \"enterprise\", \"author_name\": \"reviewer\"}, inplace=True)\n",
    "trustpilot_reviews.rename(columns={\"name\": \"reviewer\", \"translated_reviews\": \"text\"}, inplace=True)\n",
    "\n",
    "# Drop duplicates\n",
    "google_reviews.drop_duplicates(inplace=True)\n",
    "trustpilot_reviews.drop_duplicates(inplace=True)"
   ]
  },
  {
   "cell_type": "markdown",
   "metadata": {},
   "source": [
    "We can now join both datasets."
   ]
  },
  {
   "cell_type": "code",
   "execution_count": 32,
   "metadata": {},
   "outputs": [],
   "source": [
    "# Join both datasets\n",
    "reviews = pd.concat([google_reviews, trustpilot_reviews]).reset_index(drop=True)\n",
    "\n",
    "# Give unique ID to reviews\n",
    "reviews[\"ID\"] = np.arange(1, len(reviews)+1)"
   ]
  },
  {
   "cell_type": "markdown",
   "metadata": {},
   "source": [
    "Now it's time to split the dataset for the different annotators."
   ]
  },
  {
   "cell_type": "markdown",
   "metadata": {},
   "source": [
    "One batch will be annotated by all annotators, to calculate the inter-annotator agreement. Then we will sample equal number of instances for each annotator."
   ]
  },
  {
   "cell_type": "code",
   "execution_count": 33,
   "metadata": {},
   "outputs": [],
   "source": [
    "# Size of sample annotated by all annotators\n",
    "size = 100\n",
    "\n",
    "# Keep a list of not assigned IDs\n",
    "remaining_ids = list(reviews.ID)\n",
    "\n",
    "# Randomly select some IDs\n",
    "common_ids = np.random.choice(remaining_ids, size=size, replace=False)\n",
    "# Assign those instances to \"all\" annotators\n",
    "reviews.loc[reviews.ID.isin(common_ids), \"annotator\"] = \"all\"\n",
    "# Remove the selected IDs from the remaining not assigned IDs\n",
    "remaining_ids = [x for x in remaining_ids if x not in common_ids]\n",
    "\n",
    "# List of annotators\n",
    "annotators = [\"Bogdan\", \"Chrisanna\", \"Christian\", \"Gino\", \"Veron\"]\n",
    "# Size of the samples\n",
    "size = len(remaining_ids) // len(annotators)\n",
    "# Assign to each annotator\n",
    "for a in annotators:\n",
    "    # Randomly select some IDs\n",
    "    selected_ids = np.random.choice(remaining_ids, size=size, replace=False)\n",
    "    # Assign those instances to the specific annotator\n",
    "    reviews.loc[reviews.ID.isin(selected_ids), \"annotator\"] = a\n",
    "    # Remove the selected IDs from the remaining not assigned IDs\n",
    "    remaining_ids = [x for x in remaining_ids if x not in selected_ids]\n"
   ]
  },
  {
   "cell_type": "markdown",
   "metadata": {},
   "source": [
    "We can check that all annotators received a similar number of instances."
   ]
  },
  {
   "cell_type": "code",
   "execution_count": 34,
   "metadata": {},
   "outputs": [
    {
     "data": {
      "text/plain": [
       "annotator\n",
       "Bogdan       101\n",
       "Chrisanna    101\n",
       "Christian    101\n",
       "Gino         101\n",
       "Veron        101\n",
       "all          100\n",
       "dtype: int64"
      ]
     },
     "metadata": {},
     "output_type": "display_data"
    }
   ],
   "source": [
    "# Show number of instances per annotator\n",
    "display(reviews.groupby(\"annotator\").size())"
   ]
  },
  {
   "cell_type": "markdown",
   "metadata": {},
   "source": [
    "Generate files for annotators with only ID and text, as to avoid introducing any bias."
   ]
  },
  {
   "cell_type": "code",
   "execution_count": 38,
   "metadata": {},
   "outputs": [
    {
     "name": "stdout",
     "output_type": "stream",
     "text": [
      "Bogdan (201, 2)\n",
      "Chrisanna (201, 2)\n",
      "Christian (201, 2)\n",
      "Gino (201, 2)\n",
      "Veron (201, 2)\n"
     ]
    }
   ],
   "source": [
    "for a in annotators:\n",
    "\n",
    "    annotators_sample = reviews.loc[(reviews.annotator == a) | (reviews.annotator == \"all\"), [\"ID\", \"text\"]]\n",
    "    #annotators_sample.to_csv(f\"{a}.csv\", encoding=\"utf-8\", index=False)"
   ]
  }
 ],
 "metadata": {
  "kernelspec": {
   "display_name": "Python 3",
   "language": "python",
   "name": "python3"
  },
  "language_info": {
   "codemirror_mode": {
    "name": "ipython",
    "version": 3
   },
   "file_extension": ".py",
   "mimetype": "text/x-python",
   "name": "python",
   "nbconvert_exporter": "python",
   "pygments_lexer": "ipython3",
   "version": "3.10.6"
  }
 },
 "nbformat": 4,
 "nbformat_minor": 2
}
