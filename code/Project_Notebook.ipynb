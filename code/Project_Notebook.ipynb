{
 "cells": [
  {
   "cell_type": "markdown",
   "metadata": {},
   "source": [
    "# < Meaningful title >"
   ]
  },
  {
   "cell_type": "markdown",
   "metadata": {},
   "source": [
    "##### Imports"
   ]
  },
  {
   "cell_type": "code",
   "execution_count": 1,
   "metadata": {},
   "outputs": [],
   "source": [
    "import requests\n",
    "import googlemaps\n",
    "import pandas as pd\n",
    "import numpy as np\n",
    "#from geopy.distance import geodesic\n",
    "import json\n",
    "#import folium\n",
    "import time\n",
    "from datetime import datetime\n",
    "from itertools import permutations\n",
    "#from geopy.distance import great_circle\n",
    "from io import StringIO\n",
    "\n",
    "# Custom util functions\n",
    "import sys; sys.path.append(\"./libraries/\")\n",
    "from utils import *"
   ]
  },
  {
   "cell_type": "markdown",
   "metadata": {},
   "source": [
    "### Settings"
   ]
  },
  {
   "cell_type": "markdown",
   "metadata": {},
   "source": [
    "##### Reproducibility settings"
   ]
  },
  {
   "cell_type": "code",
   "execution_count": 2,
   "metadata": {},
   "outputs": [],
   "source": [
    "# Random seed\n",
    "np.random.seed = 7\n",
    "\n",
    "# Relative Paths\n",
    "raw_data = \"../data/raw_data/\"\n",
    "process_data = \"../data/process_data\"\n",
    "\n",
    "# Flags\n",
    "collect = False # Flag to collect data or load existent raw_data"
   ]
  },
  {
   "cell_type": "markdown",
   "metadata": {},
   "source": [
    "##### Google API"
   ]
  },
  {
   "cell_type": "code",
   "execution_count": 3,
   "metadata": {},
   "outputs": [],
   "source": [
    "key = open(\"./Google_API_key.txt\").readline()\n",
    "gmaps = googlemaps.Client(key=key)"
   ]
  },
  {
   "cell_type": "markdown",
   "metadata": {},
   "source": [
    "# 1. Data Collection"
   ]
  },
  {
   "cell_type": "markdown",
   "metadata": {},
   "source": [
    "We start by creating a list of query values that relate to the dataset. We are interested in getting mostly reviews (and some other metadata) on specific fitness facilities (i.e. popular chains) from main cities in Denmark. To do this, we will compute the query list as a combination of cities and fitness chains. "
   ]
  },
  {
   "cell_type": "code",
   "execution_count": 4,
   "metadata": {},
   "outputs": [
    {
     "name": "stdout",
     "output_type": "stream",
     "text": [
      "['PureGym Copenhagen', 'PureGym Aalborg', 'PureGym Arhus', 'PureGym Odense', 'SATS Copenhagen', 'SATS Aalborg', 'SATS Arhus', 'SATS Odense', 'Vesterbronx Copenhagen', 'Vesterbronx Aalborg', 'Vesterbronx Arhus', 'Vesterbronx Odense']\n"
     ]
    }
   ],
   "source": [
    "# List of cities\n",
    "cities = ['Copenhagen', 'Aalborg', 'Arhus', 'Odense']\n",
    " \n",
    "# Popular fitness chains\n",
    "gyms = [\"PureGym\", \"SATS\", \"Vesterbronx\"]\n",
    "\n",
    "# Query list\n",
    "query_list = [g + \" \" + c for g in gyms for c in cities]\n",
    "\n",
    "print(query_list)"
   ]
  },
  {
   "cell_type": "markdown",
   "metadata": {},
   "source": [
    "## 1.1 Google Maps API"
   ]
  },
  {
   "cell_type": "markdown",
   "metadata": {},
   "source": [
    "The Google maps API takes a single query string to search for results (similar to the User Interface searchbox). Therefore, we combine popular fitness facilities with main Danish cities as our query keys."
   ]
  },
  {
   "cell_type": "markdown",
   "metadata": {},
   "source": [
    "### 1.1.1 Reviews\n",
    "We start by getting the reviews for our query list."
   ]
  },
  {
   "cell_type": "markdown",
   "metadata": {},
   "source": [
    "Get responses for all the queries from the API"
   ]
  },
  {
   "cell_type": "code",
   "execution_count": 5,
   "metadata": {},
   "outputs": [],
   "source": [
    "if collect:\n",
    "    # Get response for queries\n",
    "    dfs = []\n",
    "\n",
    "    # For each query in the query list\n",
    "    for query in query_list:  \n",
    "        # Get the response using our custom made querier\n",
    "        dfs.append(google_querier(gmaps, query))\n",
    "\n",
    "    google_reviews = pd.concat(dfs)\n",
    "\n",
    "    # Save to disk\n",
    "    google_reviews.to_csv(raw_data + \"google_reviews.csv\", index=False, encoding=\"utf-8\")\n",
    "\n",
    "else:\n",
    "    google_reviews = pd.read_csv(raw_data + \"google_reviews.csv\")"
   ]
  },
  {
   "cell_type": "markdown",
   "metadata": {},
   "source": [
    "Check the results."
   ]
  },
  {
   "cell_type": "code",
   "execution_count": 6,
   "metadata": {},
   "outputs": [
    {
     "name": "stdout",
     "output_type": "stream",
     "text": [
      "Resulting dataframe has shape (360, 9)\n",
      "\n",
      "<class 'pandas.core.frame.DataFrame'>\n",
      "RangeIndex: 360 entries, 0 to 359\n",
      "Data columns (total 9 columns):\n",
      " #   Column         Non-Null Count  Dtype  \n",
      "---  ------         --------------  -----  \n",
      " 0   place_id       360 non-null    object \n",
      " 1   type           360 non-null    object \n",
      " 2   name           360 non-null    object \n",
      " 3   lat            360 non-null    float64\n",
      " 4   lng            360 non-null    float64\n",
      " 5   author_name    360 non-null    object \n",
      " 6   rating         360 non-null    int64  \n",
      " 7   text           360 non-null    object \n",
      " 8   opening_hours  360 non-null    object \n",
      "dtypes: float64(2), int64(1), object(6)\n",
      "memory usage: 25.4+ KB\n",
      "None\n"
     ]
    },
    {
     "data": {
      "text/html": [
       "<div>\n",
       "<style scoped>\n",
       "    .dataframe tbody tr th:only-of-type {\n",
       "        vertical-align: middle;\n",
       "    }\n",
       "\n",
       "    .dataframe tbody tr th {\n",
       "        vertical-align: top;\n",
       "    }\n",
       "\n",
       "    .dataframe thead th {\n",
       "        text-align: right;\n",
       "    }\n",
       "</style>\n",
       "<table border=\"1\" class=\"dataframe\">\n",
       "  <thead>\n",
       "    <tr style=\"text-align: right;\">\n",
       "      <th></th>\n",
       "      <th>place_id</th>\n",
       "      <th>type</th>\n",
       "      <th>name</th>\n",
       "      <th>lat</th>\n",
       "      <th>lng</th>\n",
       "      <th>author_name</th>\n",
       "      <th>rating</th>\n",
       "      <th>text</th>\n",
       "      <th>opening_hours</th>\n",
       "    </tr>\n",
       "  </thead>\n",
       "  <tbody>\n",
       "    <tr>\n",
       "      <th>0</th>\n",
       "      <td>ChIJh3mB6UxSUkYREbiH4JDK-7M</td>\n",
       "      <td>PureGym Copenhagen</td>\n",
       "      <td>PureGym</td>\n",
       "      <td>55.669812</td>\n",
       "      <td>12.54739</td>\n",
       "      <td>madi sharp</td>\n",
       "      <td>4</td>\n",
       "      <td>Sweet small gym, staff are kind when you see t...</td>\n",
       "      <td>{'Monday': '05:00AM - 12:00AM', 'Tuesday': '05...</td>\n",
       "    </tr>\n",
       "    <tr>\n",
       "      <th>1</th>\n",
       "      <td>ChIJh3mB6UxSUkYREbiH4JDK-7M</td>\n",
       "      <td>PureGym Copenhagen</td>\n",
       "      <td>PureGym</td>\n",
       "      <td>55.669812</td>\n",
       "      <td>12.54739</td>\n",
       "      <td>Lewis Atkins</td>\n",
       "      <td>2</td>\n",
       "      <td>Just a very bad gym. Staff don’t really care, ...</td>\n",
       "      <td>{'Monday': '05:00AM - 12:00AM', 'Tuesday': '05...</td>\n",
       "    </tr>\n",
       "    <tr>\n",
       "      <th>2</th>\n",
       "      <td>ChIJh3mB6UxSUkYREbiH4JDK-7M</td>\n",
       "      <td>PureGym Copenhagen</td>\n",
       "      <td>PureGym</td>\n",
       "      <td>55.669812</td>\n",
       "      <td>12.54739</td>\n",
       "      <td>Eric</td>\n",
       "      <td>1</td>\n",
       "      <td>terrible facilities\\nbathrooms are gross, dirt...</td>\n",
       "      <td>{'Monday': '05:00AM - 12:00AM', 'Tuesday': '05...</td>\n",
       "    </tr>\n",
       "    <tr>\n",
       "      <th>3</th>\n",
       "      <td>ChIJh3mB6UxSUkYREbiH4JDK-7M</td>\n",
       "      <td>PureGym Copenhagen</td>\n",
       "      <td>PureGym</td>\n",
       "      <td>55.669812</td>\n",
       "      <td>12.54739</td>\n",
       "      <td>Rune Perstrup</td>\n",
       "      <td>1</td>\n",
       "      <td>An Unhygienic Coronavirus Petri Dish.\\n\\nI hav...</td>\n",
       "      <td>{'Monday': '05:00AM - 12:00AM', 'Tuesday': '05...</td>\n",
       "    </tr>\n",
       "    <tr>\n",
       "      <th>4</th>\n",
       "      <td>ChIJh3mB6UxSUkYREbiH4JDK-7M</td>\n",
       "      <td>PureGym Copenhagen</td>\n",
       "      <td>PureGym</td>\n",
       "      <td>55.669812</td>\n",
       "      <td>12.54739</td>\n",
       "      <td>Mario Piazza</td>\n",
       "      <td>1</td>\n",
       "      <td>In a huge gym there is only one hair dryer and...</td>\n",
       "      <td>{'Monday': '05:00AM - 12:00AM', 'Tuesday': '05...</td>\n",
       "    </tr>\n",
       "  </tbody>\n",
       "</table>\n",
       "</div>"
      ],
      "text/plain": [
       "                      place_id                type     name        lat  \\\n",
       "0  ChIJh3mB6UxSUkYREbiH4JDK-7M  PureGym Copenhagen  PureGym  55.669812   \n",
       "1  ChIJh3mB6UxSUkYREbiH4JDK-7M  PureGym Copenhagen  PureGym  55.669812   \n",
       "2  ChIJh3mB6UxSUkYREbiH4JDK-7M  PureGym Copenhagen  PureGym  55.669812   \n",
       "3  ChIJh3mB6UxSUkYREbiH4JDK-7M  PureGym Copenhagen  PureGym  55.669812   \n",
       "4  ChIJh3mB6UxSUkYREbiH4JDK-7M  PureGym Copenhagen  PureGym  55.669812   \n",
       "\n",
       "        lng    author_name  rating  \\\n",
       "0  12.54739     madi sharp       4   \n",
       "1  12.54739   Lewis Atkins       2   \n",
       "2  12.54739           Eric       1   \n",
       "3  12.54739  Rune Perstrup       1   \n",
       "4  12.54739   Mario Piazza       1   \n",
       "\n",
       "                                                text  \\\n",
       "0  Sweet small gym, staff are kind when you see t...   \n",
       "1  Just a very bad gym. Staff don’t really care, ...   \n",
       "2  terrible facilities\\nbathrooms are gross, dirt...   \n",
       "3  An Unhygienic Coronavirus Petri Dish.\\n\\nI hav...   \n",
       "4  In a huge gym there is only one hair dryer and...   \n",
       "\n",
       "                                       opening_hours  \n",
       "0  {'Monday': '05:00AM - 12:00AM', 'Tuesday': '05...  \n",
       "1  {'Monday': '05:00AM - 12:00AM', 'Tuesday': '05...  \n",
       "2  {'Monday': '05:00AM - 12:00AM', 'Tuesday': '05...  \n",
       "3  {'Monday': '05:00AM - 12:00AM', 'Tuesday': '05...  \n",
       "4  {'Monday': '05:00AM - 12:00AM', 'Tuesday': '05...  "
      ]
     },
     "metadata": {},
     "output_type": "display_data"
    }
   ],
   "source": [
    "check_dataframe_results(google_reviews)"
   ]
  },
  {
   "cell_type": "markdown",
   "metadata": {},
   "source": [
    "### 1.1.2 Nearby Transportation\n",
    "We are interested in collecting the nearby transportation to the fitness centers."
   ]
  },
  {
   "cell_type": "code",
   "execution_count": 7,
   "metadata": {},
   "outputs": [],
   "source": [
    "if collect:\n",
    "\n",
    "    # Radius of search in meters\n",
    "    radius = 500\n",
    "\n",
    "    # Transportation type key (similar to what one would input in Google Maps search box)\n",
    "    transportation_type = ['bus_station', 'train_station', 'transit_station'] # Avaliable transportation: only bus station, train station and transit station (which includes metro)\n",
    "\n",
    "    # Container\n",
    "    nearby_transportation = []\n",
    "\n",
    "    # We iterate through all our fitness centers, and retrieve nearby transportations\n",
    "    for ix, row in google_reviews.iterrows():\n",
    "        # Extract info from fitness center\n",
    "        place_id = row.place_id\n",
    "        location = {\"lat\": row.lat, \"lng\": row.lng}\n",
    "        # Look at nearby transportation\n",
    "        df = google_nearby(gmaps, place_id = place_id, keys = transportation_type, location = location, radius = radius)\n",
    "        # Append results\n",
    "        nearby_transportation.append(df)\n",
    "\n",
    "    # Join all results\n",
    "    nearby_transportation = pd.concat(nearby_transportation)\n",
    "\n",
    "    # Save to disk\n",
    "    nearby_transportation.to_csv(raw_data + \"transportation.csv\", index=False, encoding=\"utf-8\")\n",
    "\n",
    "else:\n",
    "    nearby_transportation = pd.read_csv(raw_data + \"transportation.csv\")"
   ]
  },
  {
   "cell_type": "markdown",
   "metadata": {},
   "source": [
    "Check the results."
   ]
  },
  {
   "cell_type": "code",
   "execution_count": 8,
   "metadata": {},
   "outputs": [
    {
     "name": "stdout",
     "output_type": "stream",
     "text": [
      "Resulting dataframe has shape (6195, 7)\n",
      "\n",
      "<class 'pandas.core.frame.DataFrame'>\n",
      "RangeIndex: 6195 entries, 0 to 6194\n",
      "Data columns (total 7 columns):\n",
      " #   Column                  Non-Null Count  Dtype  \n",
      "---  ------                  --------------  -----  \n",
      " 0   place_id                6195 non-null   object \n",
      " 1   transport_id            6195 non-null   object \n",
      " 2   transport_name          6195 non-null   object \n",
      " 3   transport_type          6195 non-null   object \n",
      " 4   transport_lat           6195 non-null   float64\n",
      " 5   transport_lng           6195 non-null   float64\n",
      " 6   distance_gym_transport  6195 non-null   int64  \n",
      "dtypes: float64(2), int64(1), object(4)\n",
      "memory usage: 338.9+ KB\n",
      "None\n"
     ]
    },
    {
     "data": {
      "text/html": [
       "<div>\n",
       "<style scoped>\n",
       "    .dataframe tbody tr th:only-of-type {\n",
       "        vertical-align: middle;\n",
       "    }\n",
       "\n",
       "    .dataframe tbody tr th {\n",
       "        vertical-align: top;\n",
       "    }\n",
       "\n",
       "    .dataframe thead th {\n",
       "        text-align: right;\n",
       "    }\n",
       "</style>\n",
       "<table border=\"1\" class=\"dataframe\">\n",
       "  <thead>\n",
       "    <tr style=\"text-align: right;\">\n",
       "      <th></th>\n",
       "      <th>place_id</th>\n",
       "      <th>transport_id</th>\n",
       "      <th>transport_name</th>\n",
       "      <th>transport_type</th>\n",
       "      <th>transport_lat</th>\n",
       "      <th>transport_lng</th>\n",
       "      <th>distance_gym_transport</th>\n",
       "    </tr>\n",
       "  </thead>\n",
       "  <tbody>\n",
       "    <tr>\n",
       "      <th>0</th>\n",
       "      <td>ChIJh3mB6UxSUkYREbiH4JDK-7M</td>\n",
       "      <td>ChIJ-y92w3VTUkYRY8NOJNuwQkQ</td>\n",
       "      <td>Kridt v/Rikke Frisk</td>\n",
       "      <td>bus_station</td>\n",
       "      <td>55.668036</td>\n",
       "      <td>12.551084</td>\n",
       "      <td>305</td>\n",
       "    </tr>\n",
       "    <tr>\n",
       "      <th>1</th>\n",
       "      <td>ChIJh3mB6UxSUkYREbiH4JDK-7M</td>\n",
       "      <td>ChIJ76k9hJ9TUkYRRaHYcLRX3XE</td>\n",
       "      <td>Lysholdet v/Jakob Holst</td>\n",
       "      <td>bus_station</td>\n",
       "      <td>55.672786</td>\n",
       "      <td>12.547279</td>\n",
       "      <td>331</td>\n",
       "    </tr>\n",
       "    <tr>\n",
       "      <th>2</th>\n",
       "      <td>ChIJh3mB6UxSUkYREbiH4JDK-7M</td>\n",
       "      <td>ChIJydMagp9TUkYRjfgBz2sKErQ</td>\n",
       "      <td>Ejerforeningen Sigbrits Allé 3, 5 og 5a</td>\n",
       "      <td>bus_station</td>\n",
       "      <td>55.672865</td>\n",
       "      <td>12.546713</td>\n",
       "      <td>343</td>\n",
       "    </tr>\n",
       "    <tr>\n",
       "      <th>3</th>\n",
       "      <td>ChIJh3mB6UxSUkYREbiH4JDK-7M</td>\n",
       "      <td>ChIJydMagp9TUkYRcgSv8LkczNs</td>\n",
       "      <td>Grundejerforeningen Carl Jacobsens Vej 33-41</td>\n",
       "      <td>bus_station</td>\n",
       "      <td>55.672865</td>\n",
       "      <td>12.546713</td>\n",
       "      <td>343</td>\n",
       "    </tr>\n",
       "    <tr>\n",
       "      <th>4</th>\n",
       "      <td>ChIJh3mB6UxSUkYREbiH4JDK-7M</td>\n",
       "      <td>ChIJl46JnZ5TUkYRnW93t25gFhQ</td>\n",
       "      <td>Optiperform v/Maja Juel-Hansen</td>\n",
       "      <td>bus_station</td>\n",
       "      <td>55.668011</td>\n",
       "      <td>12.542917</td>\n",
       "      <td>346</td>\n",
       "    </tr>\n",
       "  </tbody>\n",
       "</table>\n",
       "</div>"
      ],
      "text/plain": [
       "                      place_id                 transport_id  \\\n",
       "0  ChIJh3mB6UxSUkYREbiH4JDK-7M  ChIJ-y92w3VTUkYRY8NOJNuwQkQ   \n",
       "1  ChIJh3mB6UxSUkYREbiH4JDK-7M  ChIJ76k9hJ9TUkYRRaHYcLRX3XE   \n",
       "2  ChIJh3mB6UxSUkYREbiH4JDK-7M  ChIJydMagp9TUkYRjfgBz2sKErQ   \n",
       "3  ChIJh3mB6UxSUkYREbiH4JDK-7M  ChIJydMagp9TUkYRcgSv8LkczNs   \n",
       "4  ChIJh3mB6UxSUkYREbiH4JDK-7M  ChIJl46JnZ5TUkYRnW93t25gFhQ   \n",
       "\n",
       "                                 transport_name transport_type  transport_lat  \\\n",
       "0                           Kridt v/Rikke Frisk    bus_station      55.668036   \n",
       "1                       Lysholdet v/Jakob Holst    bus_station      55.672786   \n",
       "2       Ejerforeningen Sigbrits Allé 3, 5 og 5a    bus_station      55.672865   \n",
       "3  Grundejerforeningen Carl Jacobsens Vej 33-41    bus_station      55.672865   \n",
       "4                Optiperform v/Maja Juel-Hansen    bus_station      55.668011   \n",
       "\n",
       "   transport_lng  distance_gym_transport  \n",
       "0      12.551084                     305  \n",
       "1      12.547279                     331  \n",
       "2      12.546713                     343  \n",
       "3      12.546713                     343  \n",
       "4      12.542917                     346  "
      ]
     },
     "metadata": {},
     "output_type": "display_data"
    }
   ],
   "source": [
    "check_dataframe_results(nearby_transportation)"
   ]
  },
  {
   "cell_type": "markdown",
   "metadata": {},
   "source": [
    "## 1.2 Trustpilot WebCrawler"
   ]
  },
  {
   "cell_type": "markdown",
   "metadata": {},
   "source": [
    "Trustpilot is a Danish consumer review website very popular in Denmark. It is publicly available and easy to access, but it does not provide any API integration. Therefore, we use a simple webcrawler to extract the reviews of interest."
   ]
  },
  {
   "cell_type": "code",
   "execution_count": 9,
   "metadata": {},
   "outputs": [],
   "source": [
    "if collect:\n",
    "    dfs = []\n",
    "\n",
    "    # Reuse the gyms\n",
    "    for g in gyms:\n",
    "        df = trustpilot_crawler(key=g, verbose=False)\n",
    "\n",
    "        # Append the facility DF to main df\n",
    "        dfs.append(df)\n",
    "\n",
    "    # Join all DFs\n",
    "    trustpilot_reviews = pd.concat(dfs)\n",
    "\n",
    "    # Save to disk\n",
    "    trustpilot_reviews.to_csv(raw_data + \"trustpilot_reviews.csv\", index=False, encoding=\"utf-8\")\n",
    "\n",
    "else:\n",
    "    trustpilot_reviews = pd.read_csv(raw_data + \"trustpilot_reviews.csv\")"
   ]
  },
  {
   "cell_type": "markdown",
   "metadata": {},
   "source": [
    "Check the results."
   ]
  },
  {
   "cell_type": "code",
   "execution_count": 10,
   "metadata": {},
   "outputs": [
    {
     "name": "stdout",
     "output_type": "stream",
     "text": [
      "Resulting dataframe has shape (2802, 7)\n",
      "\n",
      "<class 'pandas.core.frame.DataFrame'>\n",
      "RangeIndex: 2802 entries, 0 to 2801\n",
      "Data columns (total 7 columns):\n",
      " #   Column      Non-Null Count  Dtype \n",
      "---  ------      --------------  ----- \n",
      " 0   datetime    2802 non-null   object\n",
      " 1   name        2802 non-null   object\n",
      " 2   rating      2802 non-null   int64 \n",
      " 3   title       2802 non-null   object\n",
      " 4   review      2802 non-null   object\n",
      " 5   event_time  2802 non-null   object\n",
      " 6   enterprise  2802 non-null   object\n",
      "dtypes: int64(1), object(6)\n",
      "memory usage: 153.4+ KB\n",
      "None\n"
     ]
    },
    {
     "data": {
      "text/html": [
       "<div>\n",
       "<style scoped>\n",
       "    .dataframe tbody tr th:only-of-type {\n",
       "        vertical-align: middle;\n",
       "    }\n",
       "\n",
       "    .dataframe tbody tr th {\n",
       "        vertical-align: top;\n",
       "    }\n",
       "\n",
       "    .dataframe thead th {\n",
       "        text-align: right;\n",
       "    }\n",
       "</style>\n",
       "<table border=\"1\" class=\"dataframe\">\n",
       "  <thead>\n",
       "    <tr style=\"text-align: right;\">\n",
       "      <th></th>\n",
       "      <th>datetime</th>\n",
       "      <th>name</th>\n",
       "      <th>rating</th>\n",
       "      <th>title</th>\n",
       "      <th>review</th>\n",
       "      <th>event_time</th>\n",
       "      <th>enterprise</th>\n",
       "    </tr>\n",
       "  </thead>\n",
       "  <tbody>\n",
       "    <tr>\n",
       "      <th>0</th>\n",
       "      <td>2023-11-13T14:03:40.000Z</td>\n",
       "      <td>Jan Winther</td>\n",
       "      <td>4</td>\n",
       "      <td>Godt fitness-center</td>\n",
       "      <td>Gennemgående er jeg godt tilfreds med mit fitn...</td>\n",
       "      <td>13. november 2023</td>\n",
       "      <td>PureGym</td>\n",
       "    </tr>\n",
       "    <tr>\n",
       "      <th>1</th>\n",
       "      <td>2023-11-14T13:07:20.000Z</td>\n",
       "      <td>Tina Holst</td>\n",
       "      <td>5</td>\n",
       "      <td>Syntes altid det er dejligt at komme i…</td>\n",
       "      <td>Syntes altid det er dejligt at komme i centret...</td>\n",
       "      <td>14. november 2023</td>\n",
       "      <td>PureGym</td>\n",
       "    </tr>\n",
       "    <tr>\n",
       "      <th>2</th>\n",
       "      <td>2023-11-13T09:22:36.000Z</td>\n",
       "      <td>Pfændtner</td>\n",
       "      <td>5</td>\n",
       "      <td>Jeg har gået i Fitness centeret i 22år…</td>\n",
       "      <td>Jeg har gået i Fitness centeret i 22år og efte...</td>\n",
       "      <td>12. november 2023</td>\n",
       "      <td>PureGym</td>\n",
       "    </tr>\n",
       "    <tr>\n",
       "      <th>3</th>\n",
       "      <td>2023-11-13T17:18:33.000Z</td>\n",
       "      <td>Gitte</td>\n",
       "      <td>5</td>\n",
       "      <td>Puregym Ikast</td>\n",
       "      <td>Puregym Ikast er et fantastisk center. Man føl...</td>\n",
       "      <td>13. november 2023</td>\n",
       "      <td>PureGym</td>\n",
       "    </tr>\n",
       "    <tr>\n",
       "      <th>4</th>\n",
       "      <td>2023-11-13T10:01:35.000Z</td>\n",
       "      <td>GITTE MIKKELSEN</td>\n",
       "      <td>2</td>\n",
       "      <td>Der mangler Stram op hold</td>\n",
       "      <td>Der mangler Stram op hold (eller ligende fx Pu...</td>\n",
       "      <td>11. november 2023</td>\n",
       "      <td>PureGym</td>\n",
       "    </tr>\n",
       "  </tbody>\n",
       "</table>\n",
       "</div>"
      ],
      "text/plain": [
       "                   datetime             name  rating  \\\n",
       "0  2023-11-13T14:03:40.000Z      Jan Winther       4   \n",
       "1  2023-11-14T13:07:20.000Z       Tina Holst       5   \n",
       "2  2023-11-13T09:22:36.000Z        Pfændtner       5   \n",
       "3  2023-11-13T17:18:33.000Z            Gitte       5   \n",
       "4  2023-11-13T10:01:35.000Z  GITTE MIKKELSEN       2   \n",
       "\n",
       "                                     title  \\\n",
       "0                      Godt fitness-center   \n",
       "1  Syntes altid det er dejligt at komme i…   \n",
       "2  Jeg har gået i Fitness centeret i 22år…   \n",
       "3                            Puregym Ikast   \n",
       "4                Der mangler Stram op hold   \n",
       "\n",
       "                                              review         event_time  \\\n",
       "0  Gennemgående er jeg godt tilfreds med mit fitn...  13. november 2023   \n",
       "1  Syntes altid det er dejligt at komme i centret...  14. november 2023   \n",
       "2  Jeg har gået i Fitness centeret i 22år og efte...  12. november 2023   \n",
       "3  Puregym Ikast er et fantastisk center. Man føl...  13. november 2023   \n",
       "4  Der mangler Stram op hold (eller ligende fx Pu...  11. november 2023   \n",
       "\n",
       "  enterprise  \n",
       "0    PureGym  \n",
       "1    PureGym  \n",
       "2    PureGym  \n",
       "3    PureGym  \n",
       "4    PureGym  "
      ]
     },
     "metadata": {},
     "output_type": "display_data"
    }
   ],
   "source": [
    "check_dataframe_results(trustpilot_reviews)"
   ]
  },
  {
   "cell_type": "markdown",
   "metadata": {},
   "source": [
    "## 1.3 Københavns Kommune WebCrawler"
   ]
  },
  {
   "cell_type": "markdown",
   "metadata": {},
   "source": [
    "The Københavns Kommune website provides an extensive list of training facilities, both indoors and outdoors. Since this is a dynamic site built on JavaScript, the traditional webcrawler approach is not suitable, and thus we will use an approach that simulates human-like interactions using Selenium."
   ]
  },
  {
   "cell_type": "code",
   "execution_count": 11,
   "metadata": {},
   "outputs": [],
   "source": [
    "if collect:\n",
    "\n",
    "    # Create crawler instance\n",
    "    kbh_crawler = KBHFacilitiesWebCrawler()\n",
    "    # Get dataframe with entries\n",
    "    kbh_facilities = kbh_crawler.get()\n",
    "\n",
    "    # Save to disk\n",
    "    kbh_facilities.to_csv(raw_data + \"kbh_facilities.csv\", index=False, encoding=\"utf-16\") # Since some Danish characters don't map to utf-8, we use utf-16\n",
    "    \n",
    "\n",
    "else:\n",
    "    kbh_facilities = pd.read_csv(raw_data + \"kbh_facilities.csv\", encoding=\"utf-16\")"
   ]
  },
  {
   "cell_type": "markdown",
   "metadata": {},
   "source": [
    "Check the results."
   ]
  },
  {
   "cell_type": "code",
   "execution_count": 12,
   "metadata": {},
   "outputs": [
    {
     "name": "stdout",
     "output_type": "stream",
     "text": [
      "Resulting dataframe has shape (610, 4)\n",
      "\n",
      "<class 'pandas.core.frame.DataFrame'>\n",
      "RangeIndex: 610 entries, 0 to 609\n",
      "Data columns (total 4 columns):\n",
      " #   Column    Non-Null Count  Dtype \n",
      "---  ------    --------------  ----- \n",
      " 0   type      610 non-null    object\n",
      " 1   website   526 non-null    object\n",
      " 2   location  593 non-null    object\n",
      " 3   address   526 non-null    object\n",
      "dtypes: object(4)\n",
      "memory usage: 19.2+ KB\n",
      "None\n"
     ]
    },
    {
     "data": {
      "text/html": [
       "<div>\n",
       "<style scoped>\n",
       "    .dataframe tbody tr th:only-of-type {\n",
       "        vertical-align: middle;\n",
       "    }\n",
       "\n",
       "    .dataframe tbody tr th {\n",
       "        vertical-align: top;\n",
       "    }\n",
       "\n",
       "    .dataframe thead th {\n",
       "        text-align: right;\n",
       "    }\n",
       "</style>\n",
       "<table border=\"1\" class=\"dataframe\">\n",
       "  <thead>\n",
       "    <tr style=\"text-align: right;\">\n",
       "      <th></th>\n",
       "      <th>type</th>\n",
       "      <th>website</th>\n",
       "      <th>location</th>\n",
       "      <th>address</th>\n",
       "    </tr>\n",
       "  </thead>\n",
       "  <tbody>\n",
       "    <tr>\n",
       "      <th>0</th>\n",
       "      <td>Styrke- og grundtræning</td>\n",
       "      <td>http://www.sosmotion.dk/</td>\n",
       "      <td>SOS Motion</td>\n",
       "      <td>Sundhedshus Østerbro, Randersgade 60, 4 sal, 2...</td>\n",
       "    </tr>\n",
       "    <tr>\n",
       "      <th>1</th>\n",
       "      <td>Træningspavillion</td>\n",
       "      <td>NaN</td>\n",
       "      <td>NaN</td>\n",
       "      <td>Kvægtorvsgade, 1710 KBH V</td>\n",
       "    </tr>\n",
       "    <tr>\n",
       "      <th>2</th>\n",
       "      <td>Kondisti</td>\n",
       "      <td>NaN</td>\n",
       "      <td>Valbyparken</td>\n",
       "      <td>Tudsemindevej, 2450 Valby</td>\n",
       "    </tr>\n",
       "    <tr>\n",
       "      <th>3</th>\n",
       "      <td>Nærgymnastik</td>\n",
       "      <td>https://lofskolen.dk/kurser/motion-og-sundhed/...</td>\n",
       "      <td>LOFskolen</td>\n",
       "      <td>Østerbrogade 240, 2100 København Ø</td>\n",
       "    </tr>\n",
       "    <tr>\n",
       "      <th>4</th>\n",
       "      <td>Stavgang for seniorer</td>\n",
       "      <td>https://kbhkg.klub-modul.dk/default.aspx</td>\n",
       "      <td>Københavns Gymnastikforening</td>\n",
       "      <td>Ole Suhrs Gade 3, 1354 København</td>\n",
       "    </tr>\n",
       "  </tbody>\n",
       "</table>\n",
       "</div>"
      ],
      "text/plain": [
       "                      type                                            website  \\\n",
       "0  Styrke- og grundtræning                           http://www.sosmotion.dk/   \n",
       "1        Træningspavillion                                                NaN   \n",
       "2                 Kondisti                                                NaN   \n",
       "3             Nærgymnastik  https://lofskolen.dk/kurser/motion-og-sundhed/...   \n",
       "4    Stavgang for seniorer           https://kbhkg.klub-modul.dk/default.aspx   \n",
       "\n",
       "                       location  \\\n",
       "0                    SOS Motion   \n",
       "1                           NaN   \n",
       "2                   Valbyparken   \n",
       "3                     LOFskolen   \n",
       "4  Københavns Gymnastikforening   \n",
       "\n",
       "                                             address  \n",
       "0  Sundhedshus Østerbro, Randersgade 60, 4 sal, 2...  \n",
       "1                          Kvægtorvsgade, 1710 KBH V  \n",
       "2                          Tudsemindevej, 2450 Valby  \n",
       "3                 Østerbrogade 240, 2100 København Ø  \n",
       "4                   Ole Suhrs Gade 3, 1354 København  "
      ]
     },
     "metadata": {},
     "output_type": "display_data"
    }
   ],
   "source": [
    "check_dataframe_results(kbh_facilities)"
   ]
  },
  {
   "cell_type": "markdown",
   "metadata": {},
   "source": [
    "We observe that this dataset only contains addresses, but not geolocation (latitude and longitude). We then try to collect that data from Google Maps."
   ]
  },
  {
   "cell_type": "code",
   "execution_count": 20,
   "metadata": {},
   "outputs": [],
   "source": [
    "if collect:\n",
    "    # We create the new columns\n",
    "    kbh_facilities['lat'] = None\n",
    "    kbh_facilities['lng'] = None\n",
    "\n",
    "    # Subset only facilities with either address OR location\n",
    "    for index, row in kbh_facilities[~kbh_facilities.isna()].iterrows():\n",
    "\n",
    "        #look first if we can find lat and lng for the address\n",
    "        lat_lng = get_lat_lng(gmaps, row.address)\n",
    "        \n",
    "        # if there is no address or we can't find the coordiantes using address we try the location\n",
    "        if not lat_lng:\n",
    "            lat_lng = get_lat_lng(gmaps, row.location)\n",
    "            \n",
    "        # if none of location and address works we continue with the next (leave it at None)\n",
    "        if not lat_lng:\n",
    "            continue\n",
    "\n",
    "        kbh_facilities.at[index, 'lat'] = lat_lng[0]\n",
    "        kbh_facilities.at[index, 'lng'] = lat_lng[1]\n",
    "\n",
    "    # Save to disk\n",
    "    kbh_facilities.to_csv(raw_data + \"kbh_facilities.csv\", index=False, encoding=\"utf-16\") # Since some Danish characters don't map to utf-8, we use utf-16\n",
    "\n",
    "else:\n",
    "    kbh_facilities = pd.read_csv(raw_data + \"kbh_facilities.csv\", encoding=\"utf-16\")"
   ]
  },
  {
   "cell_type": "markdown",
   "metadata": {},
   "source": [
    "Check the results."
   ]
  },
  {
   "cell_type": "code",
   "execution_count": 21,
   "metadata": {},
   "outputs": [
    {
     "name": "stdout",
     "output_type": "stream",
     "text": [
      "Resulting dataframe has shape (610, 6)\n",
      "\n",
      "<class 'pandas.core.frame.DataFrame'>\n",
      "RangeIndex: 610 entries, 0 to 609\n",
      "Data columns (total 6 columns):\n",
      " #   Column    Non-Null Count  Dtype  \n",
      "---  ------    --------------  -----  \n",
      " 0   type      610 non-null    object \n",
      " 1   website   526 non-null    object \n",
      " 2   location  593 non-null    object \n",
      " 3   address   526 non-null    object \n",
      " 4   lat       518 non-null    float64\n",
      " 5   lng       518 non-null    float64\n",
      "dtypes: float64(2), object(4)\n",
      "memory usage: 28.7+ KB\n",
      "None\n"
     ]
    },
    {
     "data": {
      "text/html": [
       "<div>\n",
       "<style scoped>\n",
       "    .dataframe tbody tr th:only-of-type {\n",
       "        vertical-align: middle;\n",
       "    }\n",
       "\n",
       "    .dataframe tbody tr th {\n",
       "        vertical-align: top;\n",
       "    }\n",
       "\n",
       "    .dataframe thead th {\n",
       "        text-align: right;\n",
       "    }\n",
       "</style>\n",
       "<table border=\"1\" class=\"dataframe\">\n",
       "  <thead>\n",
       "    <tr style=\"text-align: right;\">\n",
       "      <th></th>\n",
       "      <th>type</th>\n",
       "      <th>website</th>\n",
       "      <th>location</th>\n",
       "      <th>address</th>\n",
       "      <th>lat</th>\n",
       "      <th>lng</th>\n",
       "    </tr>\n",
       "  </thead>\n",
       "  <tbody>\n",
       "    <tr>\n",
       "      <th>0</th>\n",
       "      <td>Styrke- og grundtræning</td>\n",
       "      <td>http://www.sosmotion.dk/</td>\n",
       "      <td>SOS Motion</td>\n",
       "      <td>Sundhedshus Østerbro, Randersgade 60, 4 sal, 2...</td>\n",
       "      <td>55.707451</td>\n",
       "      <td>12.580255</td>\n",
       "    </tr>\n",
       "    <tr>\n",
       "      <th>1</th>\n",
       "      <td>Træningspavillion</td>\n",
       "      <td>NaN</td>\n",
       "      <td>NaN</td>\n",
       "      <td>Kvægtorvsgade, 1710 KBH V</td>\n",
       "      <td>55.669719</td>\n",
       "      <td>12.563130</td>\n",
       "    </tr>\n",
       "    <tr>\n",
       "      <th>2</th>\n",
       "      <td>Kondisti</td>\n",
       "      <td>NaN</td>\n",
       "      <td>Valbyparken</td>\n",
       "      <td>Tudsemindevej, 2450 Valby</td>\n",
       "      <td>55.643635</td>\n",
       "      <td>12.525831</td>\n",
       "    </tr>\n",
       "    <tr>\n",
       "      <th>3</th>\n",
       "      <td>Nærgymnastik</td>\n",
       "      <td>https://lofskolen.dk/kurser/motion-og-sundhed/...</td>\n",
       "      <td>LOFskolen</td>\n",
       "      <td>Østerbrogade 240, 2100 København Ø</td>\n",
       "      <td>55.713762</td>\n",
       "      <td>12.578719</td>\n",
       "    </tr>\n",
       "    <tr>\n",
       "      <th>4</th>\n",
       "      <td>Stavgang for seniorer</td>\n",
       "      <td>https://kbhkg.klub-modul.dk/default.aspx</td>\n",
       "      <td>Københavns Gymnastikforening</td>\n",
       "      <td>Ole Suhrs Gade 3, 1354 København</td>\n",
       "      <td>55.688828</td>\n",
       "      <td>12.572720</td>\n",
       "    </tr>\n",
       "  </tbody>\n",
       "</table>\n",
       "</div>"
      ],
      "text/plain": [
       "                      type                                            website  \\\n",
       "0  Styrke- og grundtræning                           http://www.sosmotion.dk/   \n",
       "1        Træningspavillion                                                NaN   \n",
       "2                 Kondisti                                                NaN   \n",
       "3             Nærgymnastik  https://lofskolen.dk/kurser/motion-og-sundhed/...   \n",
       "4    Stavgang for seniorer           https://kbhkg.klub-modul.dk/default.aspx   \n",
       "\n",
       "                       location  \\\n",
       "0                    SOS Motion   \n",
       "1                           NaN   \n",
       "2                   Valbyparken   \n",
       "3                     LOFskolen   \n",
       "4  Københavns Gymnastikforening   \n",
       "\n",
       "                                             address        lat        lng  \n",
       "0  Sundhedshus Østerbro, Randersgade 60, 4 sal, 2...  55.707451  12.580255  \n",
       "1                          Kvægtorvsgade, 1710 KBH V  55.669719  12.563130  \n",
       "2                          Tudsemindevej, 2450 Valby  55.643635  12.525831  \n",
       "3                 Østerbrogade 240, 2100 København Ø  55.713762  12.578719  \n",
       "4                   Ole Suhrs Gade 3, 1354 København  55.688828  12.572720  "
      ]
     },
     "metadata": {},
     "output_type": "display_data"
    }
   ],
   "source": [
    "check_dataframe_results(kbh_facilities)"
   ]
  },
  {
   "cell_type": "code",
   "execution_count": null,
   "metadata": {},
   "outputs": [],
   "source": []
  }
 ],
 "metadata": {
  "kernelspec": {
   "display_name": "Python 3",
   "language": "python",
   "name": "python3"
  },
  "language_info": {
   "codemirror_mode": {
    "name": "ipython",
    "version": 3
   },
   "file_extension": ".py",
   "mimetype": "text/x-python",
   "name": "python",
   "nbconvert_exporter": "python",
   "pygments_lexer": "ipython3",
   "version": "3.10.6"
  }
 },
 "nbformat": 4,
 "nbformat_minor": 2
}
