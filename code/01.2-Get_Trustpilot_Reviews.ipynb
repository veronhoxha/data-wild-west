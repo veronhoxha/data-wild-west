{
 "cells": [
  {
   "cell_type": "markdown",
   "metadata": {},
   "source": [
    "# Imports"
   ]
  },
  {
   "cell_type": "code",
   "execution_count": 1,
   "metadata": {},
   "outputs": [
    {
     "name": "stderr",
     "output_type": "stream",
     "text": [
      "c:\\Users\\Veronii\\AppData\\Local\\Programs\\Python\\Python310\\lib\\site-packages\\tqdm\\auto.py:21: TqdmWarning: IProgress not found. Please update jupyter and ipywidgets. See https://ipywidgets.readthedocs.io/en/stable/user_install.html\n",
      "  from .autonotebook import tqdm as notebook_tqdm\n"
     ]
    },
    {
     "data": {
      "text/plain": [
       "<module 'imports' from 'c:\\\\Users\\\\Veronii\\\\Desktop\\\\data-wild-west\\\\code\\\\imports.py'>"
      ]
     },
     "execution_count": 1,
     "metadata": {},
     "output_type": "execute_result"
    }
   ],
   "source": [
    "# import requests \n",
    "# import re \n",
    "# from bs4 import BeautifulSoup \n",
    "# import pandas as pd\n",
    "# import regex as re\n",
    "# import os\n",
    "import imports as i\n",
    "import importlib\n",
    "importlib.reload(i)"
   ]
  },
  {
   "cell_type": "markdown",
   "metadata": {},
   "source": [
    "# Functions for web-scraping"
   ]
  },
  {
   "cell_type": "code",
   "execution_count": 2,
   "metadata": {},
   "outputs": [],
   "source": [
    "def check_response(url):\n",
    "    response = i.requests.get(url)\n",
    "    status_code = response.status_code\n",
    "    if status_code != 200:\n",
    "        raise Exception(f'Error {status_code} ({i.requests.status_codes._codes[status_code]})')\n",
    "    else:\n",
    "        html_text = response.content\n",
    "        print(f'Request successful')\n",
    "        return html_text\n",
    "\n",
    "def make_soup(html_text):\n",
    "    return i.BeautifulSoup(html_text, 'html.parser')\n",
    "\n",
    "def get_contents(soup):\n",
    "    entries = []\n",
    "    keys = ['datetime', 'name', 'rating', 'title', 'review', 'event_time']\n",
    "    reviews = soup.find_all('div', class_ = 'styles_reviewCardInner__EwDq2')\n",
    "    \n",
    "    for review in reviews:\n",
    "        try:\n",
    "            text = review.find('p', class_ = 'typography_body-l__KUYFJ typography_appearance-default__AAY17 typography_color-black__5LYEn').get_text()\n",
    "        except AttributeError:\n",
    "            continue\n",
    "        \n",
    "        date = (review.find('time')).attrs['datetime']\n",
    "        name = review.find('span', class_ = 'typography_heading-xxs__QKBS8 typography_appearance-default__AAY17').get_text()\n",
    "        rating = i.re.search('(\\d+)(?=\\s*.svg)', str(review.find('div', class_ =  'star-rating_starRating__4rrcf star-rating_medium__iN6Ty')))[0]\n",
    "        title = review.find('h2', class_ = 'typography_heading-s__f7029 typography_appearance-default__AAY17').get_text()\n",
    "        event = review.find('p', class_ = 'typography_body-m__xgxZ_ typography_appearance-default__AAY17').get_text()[20:]\n",
    "        \n",
    "        values = [date, name, rating, title, text, event]\n",
    "        d = dict(zip(keys, values))\n",
    "        entries.append(d)\n",
    "\n",
    "    return entries\n",
    "\n",
    "def make_df(df, d):\n",
    "    df_new = i.pd.DataFrame.from_dict(d)\n",
    "    return i.pd.concat([df, df_new], ignore_index=True, axis = 0) "
   ]
  },
  {
   "cell_type": "markdown",
   "metadata": {},
   "source": [
    "# Execute scrape. Change *n* to set desired number of reviews."
   ]
  },
  {
   "cell_type": "code",
   "execution_count": 3,
   "metadata": {},
   "outputs": [
    {
     "name": "stdout",
     "output_type": "stream",
     "text": [
      "Request successful\n",
      "Request successful\n",
      "Request successful\n",
      "Request successful\n",
      "Request successful\n",
      "Request successful\n",
      "Scrape complete! \n",
      " 7 review pages have been scanned, total reviews is 107.\n"
     ]
    }
   ],
   "source": [
    "n = 100\n",
    "\n",
    "df = i.pd.DataFrame()\n",
    "\n",
    "for j in range(1,n):\n",
    "    if len(df)>=n:\n",
    "        print(f'Scrape complete! \\n {j} review pages have been scanned, total reviews is {len(df)}.')\n",
    "        break\n",
    "    url = 'https://dk.trustpilot.com/review/puregym.dk?page={}&sort=recency'.format(j)\n",
    "    html = check_response(url)\n",
    "    soup = make_soup(html)\n",
    "    d = get_contents(soup)\n",
    "    df = make_df(df, d)"
   ]
  },
  {
   "cell_type": "markdown",
   "metadata": {},
   "source": [
    "# Preview df"
   ]
  },
  {
   "cell_type": "code",
   "execution_count": 4,
   "metadata": {},
   "outputs": [
    {
     "data": {
      "text/html": [
       "<div>\n",
       "<style scoped>\n",
       "    .dataframe tbody tr th:only-of-type {\n",
       "        vertical-align: middle;\n",
       "    }\n",
       "\n",
       "    .dataframe tbody tr th {\n",
       "        vertical-align: top;\n",
       "    }\n",
       "\n",
       "    .dataframe thead th {\n",
       "        text-align: right;\n",
       "    }\n",
       "</style>\n",
       "<table border=\"1\" class=\"dataframe\">\n",
       "  <thead>\n",
       "    <tr style=\"text-align: right;\">\n",
       "      <th></th>\n",
       "      <th>datetime</th>\n",
       "      <th>name</th>\n",
       "      <th>rating</th>\n",
       "      <th>title</th>\n",
       "      <th>review</th>\n",
       "      <th>event_time</th>\n",
       "    </tr>\n",
       "  </thead>\n",
       "  <tbody>\n",
       "    <tr>\n",
       "      <th>0</th>\n",
       "      <td>2023-11-18T17:55:07.000Z</td>\n",
       "      <td>jan</td>\n",
       "      <td>5</td>\n",
       "      <td>PureGym Dannebrogsgade Aalborg</td>\n",
       "      <td>går i PureGym i Dannebrogsgade i Aalborg og ha...</td>\n",
       "      <td>16. november 2023</td>\n",
       "    </tr>\n",
       "    <tr>\n",
       "      <th>1</th>\n",
       "      <td>2023-11-17T21:30:59.000Z</td>\n",
       "      <td>Heidi Pernille Hviid</td>\n",
       "      <td>5</td>\n",
       "      <td>Først gives max antal stjerner…</td>\n",
       "      <td>Først max antal stjerner for personalet. Især ...</td>\n",
       "      <td>17. november 2023</td>\n",
       "    </tr>\n",
       "    <tr>\n",
       "      <th>2</th>\n",
       "      <td>2023-11-19T19:31:45.000Z</td>\n",
       "      <td>Anne</td>\n",
       "      <td>5</td>\n",
       "      <td>Jeg fik hjælp af en af instruktørerne…</td>\n",
       "      <td>Jeg fik hjælp af en af instruktørerne pga. en ...</td>\n",
       "      <td>19. november 2023</td>\n",
       "    </tr>\n",
       "    <tr>\n",
       "      <th>3</th>\n",
       "      <td>2023-11-19T20:07:05.000Z</td>\n",
       "      <td>Stefan</td>\n",
       "      <td>1</td>\n",
       "      <td>lang liste af fejl</td>\n",
       "      <td>Der er så mange fejl og mangler på Bryggervang...</td>\n",
       "      <td>15. november 2023</td>\n",
       "    </tr>\n",
       "    <tr>\n",
       "      <th>4</th>\n",
       "      <td>2023-11-18T11:51:42.000Z</td>\n",
       "      <td>Jolanta Hansen</td>\n",
       "      <td>5</td>\n",
       "      <td>Gode hold og holdtrænere</td>\n",
       "      <td>Gode hold og holdtrænere. Altid engagerede und...</td>\n",
       "      <td>18. november 2023</td>\n",
       "    </tr>\n",
       "  </tbody>\n",
       "</table>\n",
       "</div>"
      ],
      "text/plain": [
       "                   datetime                  name rating  \\\n",
       "0  2023-11-18T17:55:07.000Z                   jan      5   \n",
       "1  2023-11-17T21:30:59.000Z  Heidi Pernille Hviid      5   \n",
       "2  2023-11-19T19:31:45.000Z                  Anne      5   \n",
       "3  2023-11-19T20:07:05.000Z                Stefan      1   \n",
       "4  2023-11-18T11:51:42.000Z        Jolanta Hansen      5   \n",
       "\n",
       "                                    title  \\\n",
       "0          PureGym Dannebrogsgade Aalborg   \n",
       "1         Først gives max antal stjerner…   \n",
       "2  Jeg fik hjælp af en af instruktørerne…   \n",
       "3                      lang liste af fejl   \n",
       "4                Gode hold og holdtrænere   \n",
       "\n",
       "                                              review         event_time  \n",
       "0  går i PureGym i Dannebrogsgade i Aalborg og ha...  16. november 2023  \n",
       "1  Først max antal stjerner for personalet. Især ...  17. november 2023  \n",
       "2  Jeg fik hjælp af en af instruktørerne pga. en ...  19. november 2023  \n",
       "3  Der er så mange fejl og mangler på Bryggervang...  15. november 2023  \n",
       "4  Gode hold og holdtrænere. Altid engagerede und...  18. november 2023  "
      ]
     },
     "execution_count": 4,
     "metadata": {},
     "output_type": "execute_result"
    }
   ],
   "source": [
    "df.head()"
   ]
  },
  {
   "cell_type": "markdown",
   "metadata": {},
   "source": [
    "# Save the df as CSV in current working directory"
   ]
  },
  {
   "cell_type": "code",
   "execution_count": 5,
   "metadata": {},
   "outputs": [],
   "source": [
    "cwd = i.os.getcwd()\n",
    "path = cwd + \"../data/raw_data/TrustPilot_reviews.csv\"\n",
    "df.to_csv(path, encoding='utf-16')"
   ]
  }
 ],
 "metadata": {
  "kernelspec": {
   "display_name": "wild",
   "language": "python",
   "name": "python3"
  },
  "language_info": {
   "codemirror_mode": {
    "name": "ipython",
    "version": 3
   },
   "file_extension": ".py",
   "mimetype": "text/x-python",
   "name": "python",
   "nbconvert_exporter": "python",
   "pygments_lexer": "ipython3",
   "version": "3.10.11"
  },
  "orig_nbformat": 4
 },
 "nbformat": 4,
 "nbformat_minor": 2
}
