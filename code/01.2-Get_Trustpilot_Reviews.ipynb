{
 "cells": [
  {
   "cell_type": "markdown",
   "metadata": {},
   "source": [
    "# Imports"
   ]
  },
  {
   "cell_type": "code",
   "execution_count": 1,
   "metadata": {},
   "outputs": [],
   "source": [
    "import requests # http requests\n",
    "import re # regular expressions\n",
    "from bs4 import BeautifulSoup # xml parsing\n",
    "import pandas as pd\n",
    "import regex as re\n",
    "import os"
   ]
  },
  {
   "cell_type": "markdown",
   "metadata": {},
   "source": [
    "# Functions for web-scraping"
   ]
  },
  {
   "cell_type": "code",
   "execution_count": 2,
   "metadata": {},
   "outputs": [],
   "source": [
    "def check_response(url):\n",
    "    response = requests.get(url)\n",
    "    status_code = response.status_code\n",
    "    if status_code != 200:\n",
    "        raise Exception(f'Error {status_code} ({requests.status_codes._codes[status_code]})')\n",
    "    else:\n",
    "        html_text = response.content\n",
    "        print(f'Request successful')\n",
    "        return html_text\n",
    "\n",
    "def make_soup(html_text):\n",
    "    return BeautifulSoup(html_text, 'html.parser')\n",
    "\n",
    "def get_contents(soup):\n",
    "    entries = []\n",
    "    keys = ['datetime', 'name', 'rating', 'title', 'review', 'event_time']\n",
    "    reviews = soup.find_all('div', class_ = 'styles_reviewCardInner__EwDq2')\n",
    "    \n",
    "    for review in reviews:\n",
    "        try:\n",
    "            text = review.find('p', class_ = 'typography_body-l__KUYFJ typography_appearance-default__AAY17 typography_color-black__5LYEn').get_text()\n",
    "        except AttributeError:\n",
    "            continue\n",
    "        \n",
    "        date = (review.find('time')).attrs['datetime']\n",
    "        name = review.find('span', class_ = 'typography_heading-xxs__QKBS8 typography_appearance-default__AAY17').get_text()\n",
    "        rating = re.search('(\\d+)(?=\\s*.svg)', str(review.find('div', class_ =  'star-rating_starRating__4rrcf star-rating_medium__iN6Ty')))[0]\n",
    "        title = review.find('h2', class_ = 'typography_heading-s__f7029 typography_appearance-default__AAY17').get_text()\n",
    "        event = review.find('p', class_ = 'typography_body-m__xgxZ_ typography_appearance-default__AAY17').get_text()[20:]\n",
    "        \n",
    "        values = [date, name, rating, title, text, event]\n",
    "        d = dict(zip(keys, values))\n",
    "        entries.append(d)\n",
    "\n",
    "    return entries\n",
    "\n",
    "def make_df(df, d):\n",
    "    df_new = pd.DataFrame.from_dict(d)\n",
    "    return pd.concat([df, df_new], ignore_index=True, axis = 0) \n"
   ]
  },
  {
   "cell_type": "markdown",
   "metadata": {},
   "source": [
    "# Execute scrape. Change *n* to set desired number of reviews."
   ]
  },
  {
   "cell_type": "code",
   "execution_count": 3,
   "metadata": {},
   "outputs": [
    {
     "name": "stdout",
     "output_type": "stream",
     "text": [
      "Request successful\n",
      "Request successful\n",
      "Request successful\n",
      "Request successful\n",
      "Request successful\n",
      "Request successful\n",
      "Scrape complete! \n",
      " 7 review pages have been scanned, total reviews is 109.\n"
     ]
    }
   ],
   "source": [
    "n = 100\n",
    "\n",
    "df = pd.DataFrame()\n",
    "\n",
    "for i in range(1,n):\n",
    "    if len(df)>=n:\n",
    "        print(f'Scrape complete! \\n {i} review pages have been scanned, total reviews is {len(df)}.')\n",
    "        break\n",
    "    url = 'https://dk.trustpilot.com/review/puregym.dk?page={}&sort=recency'.format(i)\n",
    "    html = check_response(url)\n",
    "    soup = make_soup(html)\n",
    "    d = get_contents(soup)\n",
    "    df = make_df(df, d)\n"
   ]
  },
  {
   "cell_type": "markdown",
   "metadata": {},
   "source": [
    "# Preview df"
   ]
  },
  {
   "cell_type": "code",
   "execution_count": 11,
   "metadata": {},
   "outputs": [
    {
     "data": {
      "text/html": [
       "<div>\n",
       "<style scoped>\n",
       "    .dataframe tbody tr th:only-of-type {\n",
       "        vertical-align: middle;\n",
       "    }\n",
       "\n",
       "    .dataframe tbody tr th {\n",
       "        vertical-align: top;\n",
       "    }\n",
       "\n",
       "    .dataframe thead th {\n",
       "        text-align: right;\n",
       "    }\n",
       "</style>\n",
       "<table border=\"1\" class=\"dataframe\">\n",
       "  <thead>\n",
       "    <tr style=\"text-align: right;\">\n",
       "      <th></th>\n",
       "      <th>datetime</th>\n",
       "      <th>name</th>\n",
       "      <th>rating</th>\n",
       "      <th>title</th>\n",
       "      <th>review</th>\n",
       "      <th>event_time</th>\n",
       "    </tr>\n",
       "  </thead>\n",
       "  <tbody>\n",
       "    <tr>\n",
       "      <th>0</th>\n",
       "      <td>2023-10-09T14:20:36.000Z</td>\n",
       "      <td>Arne Ziebell Olsen</td>\n",
       "      <td>5</td>\n",
       "      <td>Dette gælder KUN for Gentofte/Lyngbyvej…</td>\n",
       "      <td>Dette gælder KUN for Gentofte/Lyngbyvej og Osl...</td>\n",
       "      <td>09. oktober 2023</td>\n",
       "    </tr>\n",
       "    <tr>\n",
       "      <th>1</th>\n",
       "      <td>2023-10-09T12:00:03.000Z</td>\n",
       "      <td>Anette</td>\n",
       "      <td>5</td>\n",
       "      <td>Stort udvalg af maskiner og…</td>\n",
       "      <td>Stort udvalg af maskiner og holdtræning. Rene ...</td>\n",
       "      <td>09. oktober 2023</td>\n",
       "    </tr>\n",
       "    <tr>\n",
       "      <th>2</th>\n",
       "      <td>2023-10-07T21:45:24.000Z</td>\n",
       "      <td>Laura Lacziko</td>\n",
       "      <td>4</td>\n",
       "      <td>Stemningen er god, men læg vægten tilbage!</td>\n",
       "      <td>Stemningen er god, og stedet er stort nok og h...</td>\n",
       "      <td>07. oktober 2023</td>\n",
       "    </tr>\n",
       "    <tr>\n",
       "      <th>3</th>\n",
       "      <td>2023-10-10T12:07:43.000Z</td>\n",
       "      <td>Hanne Andersen</td>\n",
       "      <td>5</td>\n",
       "      <td>Føler mig velkommen</td>\n",
       "      <td>Føler mig velkommen. Dygtige instruktører.Men ...</td>\n",
       "      <td>10. oktober 2023</td>\n",
       "    </tr>\n",
       "    <tr>\n",
       "      <th>4</th>\n",
       "      <td>2023-10-10T11:27:37.000Z</td>\n",
       "      <td>Henriette Ini Bing</td>\n",
       "      <td>3</td>\n",
       "      <td>Jeg elsker mit Zumba hold hos Ditte på…</td>\n",
       "      <td>Jeg elsker mit Zumba hold hos Ditte på Bibliot...</td>\n",
       "      <td>02. oktober 2023</td>\n",
       "    </tr>\n",
       "  </tbody>\n",
       "</table>\n",
       "</div>"
      ],
      "text/plain": [
       "                   datetime                name rating  \\\n",
       "0  2023-10-09T14:20:36.000Z  Arne Ziebell Olsen      5   \n",
       "1  2023-10-09T12:00:03.000Z              Anette      5   \n",
       "2  2023-10-07T21:45:24.000Z       Laura Lacziko      4   \n",
       "3  2023-10-10T12:07:43.000Z      Hanne Andersen      5   \n",
       "4  2023-10-10T11:27:37.000Z  Henriette Ini Bing      3   \n",
       "\n",
       "                                        title  \\\n",
       "0    Dette gælder KUN for Gentofte/Lyngbyvej…   \n",
       "1                Stort udvalg af maskiner og…   \n",
       "2  Stemningen er god, men læg vægten tilbage!   \n",
       "3                         Føler mig velkommen   \n",
       "4     Jeg elsker mit Zumba hold hos Ditte på…   \n",
       "\n",
       "                                              review        event_time  \n",
       "0  Dette gælder KUN for Gentofte/Lyngbyvej og Osl...  09. oktober 2023  \n",
       "1  Stort udvalg af maskiner og holdtræning. Rene ...  09. oktober 2023  \n",
       "2  Stemningen er god, og stedet er stort nok og h...  07. oktober 2023  \n",
       "3  Føler mig velkommen. Dygtige instruktører.Men ...  10. oktober 2023  \n",
       "4  Jeg elsker mit Zumba hold hos Ditte på Bibliot...  02. oktober 2023  "
      ]
     },
     "execution_count": 11,
     "metadata": {},
     "output_type": "execute_result"
    }
   ],
   "source": [
    "df.head()"
   ]
  },
  {
   "cell_type": "markdown",
   "metadata": {},
   "source": [
    "# Save the df as CSV in current working directory"
   ]
  },
  {
   "cell_type": "code",
   "execution_count": 5,
   "metadata": {},
   "outputs": [],
   "source": [
    "cwd = os.getcwd()\n",
    "path = cwd + \"/TrustPilot_reviews.csv\"\n",
    "df.to_csv(path, encoding='utf-16')"
   ]
  },
  {
   "cell_type": "code",
   "execution_count": null,
   "metadata": {},
   "outputs": [],
   "source": []
  }
 ],
 "metadata": {
  "kernelspec": {
   "display_name": "wild",
   "language": "python",
   "name": "python3"
  },
  "language_info": {
   "codemirror_mode": {
    "name": "ipython",
    "version": 3
   },
   "file_extension": ".py",
   "mimetype": "text/x-python",
   "name": "python",
   "nbconvert_exporter": "python",
   "pygments_lexer": "ipython3",
   "version": "3.11.4"
  },
  "orig_nbformat": 4
 },
 "nbformat": 4,
 "nbformat_minor": 2
}
