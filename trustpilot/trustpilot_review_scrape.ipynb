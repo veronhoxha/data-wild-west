{
 "cells": [
  {
   "cell_type": "code",
   "execution_count": 20,
   "metadata": {},
   "outputs": [],
   "source": [
    "import requests # http requests\n",
    "import re # regular expressions\n",
    "from bs4 import BeautifulSoup # xml parsing\n",
    "import pandas as pd\n",
    "import regex as re\n",
    "import os"
   ]
  },
  {
   "cell_type": "code",
   "execution_count": 14,
   "metadata": {},
   "outputs": [],
   "source": [
    "def check_response(url):\n",
    "    response = requests.get(url)\n",
    "    status_code = response.status_code\n",
    "    if status_code != 200:\n",
    "        raise Exception(f'Error {status_code} ({requests.status_codes._codes[status_code]})')\n",
    "    else:\n",
    "        html_text = response.content\n",
    "        print(f'Request successful')\n",
    "        return html_text\n",
    "\n",
    "def make_soup(html_text):\n",
    "    return BeautifulSoup(html_text, 'html.parser')\n",
    "\n",
    "def get_contents(soup):\n",
    "    entries = []\n",
    "    keys = ['datetime', 'name', 'rating', 'title', 'review', 'event_time']\n",
    "    reviews = soup.find_all('div', class_ = 'styles_reviewCardInner__EwDq2')\n",
    "    \n",
    "    for review in reviews:\n",
    "        try:\n",
    "            text = review.find('p', class_ = 'typography_body-l__KUYFJ typography_appearance-default__AAY17 typography_color-black__5LYEn').get_text()\n",
    "        except AttributeError:\n",
    "            continue\n",
    "        \n",
    "        date = (review.find('time')).attrs['datetime']\n",
    "        name = review.find('span', class_ = 'typography_heading-xxs__QKBS8 typography_appearance-default__AAY17').get_text()\n",
    "        rating = re.search('(\\d+)(?=\\s*.svg)', str(review.find('div', class_ =  'star-rating_starRating__4rrcf star-rating_medium__iN6Ty')))[0]\n",
    "        title = review.find('h2', class_ = 'typography_heading-s__f7029 typography_appearance-default__AAY17').get_text()\n",
    "        event = review.find('p', class_ = 'typography_body-m__xgxZ_ typography_appearance-default__AAY17').get_text()[20:]\n",
    "        \n",
    "        values = [date, name, rating, title, text, event]\n",
    "        d = dict(zip(keys, values))\n",
    "        entries.append(d)\n",
    "\n",
    "    return entries\n",
    "\n",
    "def make_df(df, d):\n",
    "    df_new = pd.DataFrame.from_dict(d)\n",
    "    return pd.concat([df, df_new], ignore_index=True, axis = 0) \n"
   ]
  },
  {
   "cell_type": "code",
   "execution_count": 17,
   "metadata": {},
   "outputs": [
    {
     "name": "stdout",
     "output_type": "stream",
     "text": [
      "Request successful\n",
      "Request successful\n",
      "Request successful\n",
      "Request successful\n",
      "Request successful\n",
      "Request successful\n",
      "Scrape complete! \n",
      " 7 review pages have been scanned, total reviews is 100.\n"
     ]
    }
   ],
   "source": [
    "n = 100\n",
    "\n",
    "df = pd.DataFrame()\n",
    "\n",
    "for i in range(1,n):\n",
    "    if len(df)>=n:\n",
    "        print(f'Scrape complete! \\n {i} review pages have been scanned, total reviews is {len(df)}.')\n",
    "        break\n",
    "    url = 'https://dk.trustpilot.com/review/puregym.dk?page={}&sort=recency'.format(i)\n",
    "    html = check_response(url)\n",
    "    soup = make_soup(html)\n",
    "    d = get_contents(soup)\n",
    "    df = make_df(df, d)\n"
   ]
  },
  {
   "cell_type": "code",
   "execution_count": 26,
   "metadata": {},
   "outputs": [
    {
     "data": {
      "text/html": [
       "<div>\n",
       "<style scoped>\n",
       "    .dataframe tbody tr th:only-of-type {\n",
       "        vertical-align: middle;\n",
       "    }\n",
       "\n",
       "    .dataframe tbody tr th {\n",
       "        vertical-align: top;\n",
       "    }\n",
       "\n",
       "    .dataframe thead th {\n",
       "        text-align: right;\n",
       "    }\n",
       "</style>\n",
       "<table border=\"1\" class=\"dataframe\">\n",
       "  <thead>\n",
       "    <tr style=\"text-align: right;\">\n",
       "      <th></th>\n",
       "      <th>datetime</th>\n",
       "      <th>name</th>\n",
       "      <th>rating</th>\n",
       "      <th>title</th>\n",
       "      <th>review</th>\n",
       "      <th>event_time</th>\n",
       "    </tr>\n",
       "  </thead>\n",
       "  <tbody>\n",
       "    <tr>\n",
       "      <th>0</th>\n",
       "      <td>2023-10-02T12:49:51.000Z</td>\n",
       "      <td>Anni</td>\n",
       "      <td>5</td>\n",
       "      <td>Det var en god oplevelse pga… bikeinstruktøren</td>\n",
       "      <td>Det var en god oplevelse pga instruktøren. Det...</td>\n",
       "      <td>02. oktober 2023</td>\n",
       "    </tr>\n",
       "    <tr>\n",
       "      <th>1</th>\n",
       "      <td>2023-10-03T17:21:09.000Z</td>\n",
       "      <td>Hanne Bruun Blaabjerg</td>\n",
       "      <td>5</td>\n",
       "      <td>Positimisme</td>\n",
       "      <td>Hyggeligt sted, god atmosfære, plads til alle,...</td>\n",
       "      <td>03. oktober 2023</td>\n",
       "    </tr>\n",
       "    <tr>\n",
       "      <th>2</th>\n",
       "      <td>2023-09-29T12:41:44.000Z</td>\n",
       "      <td>Consumer</td>\n",
       "      <td>5</td>\n",
       "      <td>Zumba og stram op med Louise Pilgaard…</td>\n",
       "      <td>Zumba og stram op med Louise Pilgaard er noget...</td>\n",
       "      <td>29. september 2023</td>\n",
       "    </tr>\n",
       "    <tr>\n",
       "      <th>3</th>\n",
       "      <td>2023-10-02T12:30:58.000Z</td>\n",
       "      <td>Klaus</td>\n",
       "      <td>3</td>\n",
       "      <td>Der har efterhånden bredt sig en…</td>\n",
       "      <td>Der har efterhånden bredt sig en generel utilf...</td>\n",
       "      <td>29. september 2023</td>\n",
       "    </tr>\n",
       "    <tr>\n",
       "      <th>4</th>\n",
       "      <td>2023-10-03T09:32:28.000Z</td>\n",
       "      <td>Jane Rohde Olesen</td>\n",
       "      <td>4</td>\n",
       "      <td>Stille center men dårlig udluftning</td>\n",
       "      <td>Dejligt stille center, som jeg har brug for. M...</td>\n",
       "      <td>03. oktober 2023</td>\n",
       "    </tr>\n",
       "    <tr>\n",
       "      <th>...</th>\n",
       "      <td>...</td>\n",
       "      <td>...</td>\n",
       "      <td>...</td>\n",
       "      <td>...</td>\n",
       "      <td>...</td>\n",
       "      <td>...</td>\n",
       "    </tr>\n",
       "    <tr>\n",
       "      <th>95</th>\n",
       "      <td>2023-09-25T21:43:07.000Z</td>\n",
       "      <td>Lars Mathes</td>\n",
       "      <td>4</td>\n",
       "      <td>Overordnet et rigtig godt center med…</td>\n",
       "      <td>Overordnet et rigtig godt center med god kvali...</td>\n",
       "      <td>25. september 2023</td>\n",
       "    </tr>\n",
       "    <tr>\n",
       "      <th>96</th>\n",
       "      <td>2023-09-25T20:10:09.000Z</td>\n",
       "      <td>Lotte</td>\n",
       "      <td>5</td>\n",
       "      <td>Et center hvor der er plads til alle.</td>\n",
       "      <td>Et center hvor der er plads til alle.Hjælpsomm...</td>\n",
       "      <td>25. september 2023</td>\n",
       "    </tr>\n",
       "    <tr>\n",
       "      <th>97</th>\n",
       "      <td>2023-09-25T19:55:29.000Z</td>\n",
       "      <td>Henrik Persson</td>\n",
       "      <td>4</td>\n",
       "      <td>En forholdsvis rimelig pris</td>\n",
       "      <td>En forholdsvis rimelig pris, for maskiner der ...</td>\n",
       "      <td>25. september 2023</td>\n",
       "    </tr>\n",
       "    <tr>\n",
       "      <th>98</th>\n",
       "      <td>2023-09-25T18:57:02.000Z</td>\n",
       "      <td>Anna Zejden</td>\n",
       "      <td>5</td>\n",
       "      <td>Anbefales latin holdtræning til alle</td>\n",
       "      <td>Anbefales latin holdtræning til alle. Du får m...</td>\n",
       "      <td>25. september 2023</td>\n",
       "    </tr>\n",
       "    <tr>\n",
       "      <th>99</th>\n",
       "      <td>2023-09-25T18:54:05.000Z</td>\n",
       "      <td>kunde</td>\n",
       "      <td>4</td>\n",
       "      <td>Super træning (stram op) bare ærgerligt…</td>\n",
       "      <td>Super træning (stram op) bare ærgerligt at uds...</td>\n",
       "      <td>25. september 2023</td>\n",
       "    </tr>\n",
       "  </tbody>\n",
       "</table>\n",
       "<p>100 rows × 6 columns</p>\n",
       "</div>"
      ],
      "text/plain": [
       "                    datetime                   name rating  \\\n",
       "0   2023-10-02T12:49:51.000Z                   Anni      5   \n",
       "1   2023-10-03T17:21:09.000Z  Hanne Bruun Blaabjerg      5   \n",
       "2   2023-09-29T12:41:44.000Z               Consumer      5   \n",
       "3   2023-10-02T12:30:58.000Z                  Klaus      3   \n",
       "4   2023-10-03T09:32:28.000Z      Jane Rohde Olesen      4   \n",
       "..                       ...                    ...    ...   \n",
       "95  2023-09-25T21:43:07.000Z            Lars Mathes      4   \n",
       "96  2023-09-25T20:10:09.000Z                  Lotte      5   \n",
       "97  2023-09-25T19:55:29.000Z         Henrik Persson      4   \n",
       "98  2023-09-25T18:57:02.000Z            Anna Zejden      5   \n",
       "99  2023-09-25T18:54:05.000Z                  kunde      4   \n",
       "\n",
       "                                             title  \\\n",
       "0   Det var en god oplevelse pga… bikeinstruktøren   \n",
       "1                                      Positimisme   \n",
       "2           Zumba og stram op med Louise Pilgaard…   \n",
       "3                Der har efterhånden bredt sig en…   \n",
       "4              Stille center men dårlig udluftning   \n",
       "..                                             ...   \n",
       "95           Overordnet et rigtig godt center med…   \n",
       "96           Et center hvor der er plads til alle.   \n",
       "97                     En forholdsvis rimelig pris   \n",
       "98            Anbefales latin holdtræning til alle   \n",
       "99        Super træning (stram op) bare ærgerligt…   \n",
       "\n",
       "                                               review          event_time  \n",
       "0   Det var en god oplevelse pga instruktøren. Det...    02. oktober 2023  \n",
       "1   Hyggeligt sted, god atmosfære, plads til alle,...    03. oktober 2023  \n",
       "2   Zumba og stram op med Louise Pilgaard er noget...  29. september 2023  \n",
       "3   Der har efterhånden bredt sig en generel utilf...  29. september 2023  \n",
       "4   Dejligt stille center, som jeg har brug for. M...    03. oktober 2023  \n",
       "..                                                ...                 ...  \n",
       "95  Overordnet et rigtig godt center med god kvali...  25. september 2023  \n",
       "96  Et center hvor der er plads til alle.Hjælpsomm...  25. september 2023  \n",
       "97  En forholdsvis rimelig pris, for maskiner der ...  25. september 2023  \n",
       "98  Anbefales latin holdtræning til alle. Du får m...  25. september 2023  \n",
       "99  Super træning (stram op) bare ærgerligt at uds...  25. september 2023  \n",
       "\n",
       "[100 rows x 6 columns]"
      ]
     },
     "execution_count": 26,
     "metadata": {},
     "output_type": "execute_result"
    }
   ],
   "source": [
    "df"
   ]
  },
  {
   "cell_type": "code",
   "execution_count": 25,
   "metadata": {},
   "outputs": [],
   "source": [
    "cwd = os.getcwd()\n",
    "path = cwd + \"/TrustPilot_reviews.csv\"\n",
    "df.to_csv(path, encoding='utf-16')"
   ]
  },
  {
   "cell_type": "code",
   "execution_count": 37,
   "metadata": {},
   "outputs": [
    {
     "name": "stdout",
     "output_type": "stream",
     "text": [
      "Højt til loftet, og fantastisk personale som holder rent, og hele tiden er synlige.\n",
      "Højt%20til%20loftet%2C%20og%20fantastisk%20personale%20som%20holder%20rent%2C%20og%20hele%20tiden%20er%20synlige.\n"
     ]
    }
   ],
   "source": [
    "#https://translate.google.com/?sl=da&tl=en&text=hej.%2C!%3F%20&op=translate\n",
    "table = {' ':'%20', ',':'%2C','?':'%3F'}\n",
    "test = d[0]['review']\n",
    "print(test)\n",
    "mapping = test.maketrans(table)\n",
    "print(test.translate(mapping))"
   ]
  },
  {
   "cell_type": "code",
   "execution_count": 62,
   "metadata": {},
   "outputs": [
    {
     "name": "stdout",
     "output_type": "stream",
     "text": [
      "https://translate.google.com/?sl=da&tl=en&text=Højt%20til%20loftet%2C%20og%20fantastisk%20personale%20som%20holder%20rent%2C%20og%20hele%20tiden%20er%20synlige.&op=translate\n",
      "Request successful\n"
     ]
    }
   ],
   "source": [
    "def translate(str):\n",
    "    url = 'https://translate.google.com/?sl=da&tl=en&text={}&op=translate'.format(str)\n",
    "    print(url)\n",
    "    html = check_response(url)\n",
    "    soup = make_soup(html)\n",
    "    f = open('recipe', 'w')\n",
    "    f.write(soup.prettify())\n",
    "    #text = soup.find('div', class_ = 'lRu31')\n",
    "\n",
    "    \n",
    "\n",
    "    #text = f.find('span', class_ = 'HwtZe')\n",
    "    f.close\n",
    "    \n",
    "    return \n",
    "\n",
    "test_string = d[0]['review']\n",
    "mapping = test_string.maketrans(table)\n",
    "\n",
    "test_text = (translate(test_string.translate(mapping)))\n"
   ]
  },
  {
   "cell_type": "code",
   "execution_count": 55,
   "metadata": {},
   "outputs": [
    {
     "data": {
      "text/plain": [
       "[]"
      ]
     },
     "execution_count": 55,
     "metadata": {},
     "output_type": "execute_result"
    }
   ],
   "source": [
    "test_text"
   ]
  },
  {
   "cell_type": "code",
   "execution_count": null,
   "metadata": {},
   "outputs": [],
   "source": []
  }
 ],
 "metadata": {
  "kernelspec": {
   "display_name": "wild",
   "language": "python",
   "name": "python3"
  },
  "language_info": {
   "codemirror_mode": {
    "name": "ipython",
    "version": 3
   },
   "file_extension": ".py",
   "mimetype": "text/x-python",
   "name": "python",
   "nbconvert_exporter": "python",
   "pygments_lexer": "ipython3",
   "version": "3.11.4"
  },
  "orig_nbformat": 4
 },
 "nbformat": 4,
 "nbformat_minor": 2
}
